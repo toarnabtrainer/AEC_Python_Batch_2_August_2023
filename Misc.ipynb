{
 "cells": [
  {
   "cell_type": "markdown",
   "id": "e1a9b809-b15c-43f3-8783-c279b17c5201",
   "metadata": {},
   "source": [
    "### **Lambda Function**"
   ]
  },
  {
   "cell_type": "markdown",
   "id": "84c6adac-0ca2-479c-92b4-803be81dfca9",
   "metadata": {},
   "source": [
    "**Lambda Function**\n",
    "\n",
    ">In Python programming, a lambda function is a small anonymous function that can have any number of arguments, but can only have one expression. The expression is evaluated and returned as the function result. Lambda functions are commonly used in combination with higher-order functions such as map(), filter(), and reduce().\n",
    "\n",
    "Some of the properties of lambda functions in Python programming include:\n",
    "\n",
    "* **Anonymous:** Lambda functions are anonymous, meaning they do not have a name like regular functions. They are defined using the keyword \"lambda\" followed by the arguments and the expression.\n",
    "* **Single Expression:** A lambda function can only contain a single expression that is evaluated and returned as the function result. This means that it cannot contain multiple statements or control flow structures.\n",
    "* **Concise:** Lambda functions are concise and can be defined in a single line of code. This makes them useful for defining simple functions on-the-fly.\n",
    "* **Immutable:** Lambda functions are immutable, meaning they cannot be modified once defined. This means that you cannot change the behavior of a lambda function after it has been defined.\n",
    "* **Higher-order Functions:** Lambda functions are often used in combination with higher-order functions such as map(), filter(), and reduce(). These functions take other functions as arguments and return new functions as results.\n",
    "* **Memory-efficient:** Lambda functions are memory-efficient since they are defined on-the-fly and do not require a separate function definition. This can be useful when working with large data sets or when memory usage is a concern."
   ]
  },
  {
   "cell_type": "code",
   "execution_count": 5,
   "id": "14252a2c-97fe-40b8-938a-77d5e71ec050",
   "metadata": {},
   "outputs": [
    {
     "name": "stdout",
     "output_type": "stream",
     "text": [
      "<class 'function'>\n",
      "25\n",
      "36\n",
      "10000\n"
     ]
    }
   ],
   "source": [
    "# lambda function\n",
    "my_square = lambda num: num * num\n",
    "print (type(my_square))\n",
    "print (my_square(5))\n",
    "print (my_square(6))\n",
    "print (my_square(100))"
   ]
  },
  {
   "cell_type": "code",
   "execution_count": 6,
   "id": "cbe795f0-13bb-4392-93b3-d454388c96a5",
   "metadata": {},
   "outputs": [],
   "source": [
    "# So Python is a functional programming language. Here function in function referene\n",
    "# variable can be passed as input argument to a function and a function can return\n",
    "# a function reference variable. So, as a summary a function can take a function as\n",
    "# input argument and a function can return a function as output argument.\n",
    "# So in Python, function is called as a first-class-citizen or first-class-object."
   ]
  },
  {
   "cell_type": "code",
   "execution_count": 3,
   "id": "8a5b321d-31f3-4153-9844-270c7ccfa92e",
   "metadata": {},
   "outputs": [
    {
     "name": "stdout",
     "output_type": "stream",
     "text": [
      "So the square of 100 is 10000...\n",
      "<class 'function'>\n"
     ]
    }
   ],
   "source": [
    "def my_udf_square(num):\n",
    "    square_num = num * num\n",
    "    return square_num\n",
    "\n",
    "n = 100\n",
    "result = my_udf_square(n)\n",
    "print (f\"So the square of {n} is {result}...\")\n",
    "print (type(my_udf_square))"
   ]
  },
  {
   "cell_type": "code",
   "execution_count": 11,
   "id": "ca63c571-72d7-49d3-ba23-8fabda33bcb9",
   "metadata": {},
   "outputs": [
    {
     "name": "stdout",
     "output_type": "stream",
     "text": [
      "1000\n",
      "1000\n",
      "600\n"
     ]
    }
   ],
   "source": [
    "my_addition = lambda num1 , num2: num1 + num2\n",
    "\n",
    "print (my_addition(100, 900))\n",
    "print (my_addition(300, 700))\n",
    "# 100 + 200 + 300 = 600\n",
    "print (my_addition(100, my_addition(200, 300)))"
   ]
  },
  {
   "cell_type": "code",
   "execution_count": 13,
   "id": "3e7214c8-fd54-4f7c-bcd1-fa0315b28db6",
   "metadata": {},
   "outputs": [
    {
     "name": "stdout",
     "output_type": "stream",
     "text": [
      "So 100 is an Even number...\n",
      "So 101 is an Odd number...\n"
     ]
    }
   ],
   "source": [
    "num1 = 100\n",
    "result = \"Even\" if (num1 % 2 == 0) else \"Odd\"  # ternary operator\n",
    "print (f\"So {num1} is an {result} number...\")\n",
    "\n",
    "num1 = 101\n",
    "result = \"Even\" if (num1 % 2 == 0) else \"Odd\"\n",
    "print (f\"So {num1} is an {result} number...\")"
   ]
  },
  {
   "cell_type": "code",
   "execution_count": 16,
   "id": "f4792a12-9d21-4bad-a561-c7add4e9d078",
   "metadata": {},
   "outputs": [
    {
     "name": "stdout",
     "output_type": "stream",
     "text": [
      "So the factorial of 5 is 120...\n",
      "So the factorial of 6 is 720...\n"
     ]
    }
   ],
   "source": [
    "# lambda function with recursion\n",
    "my_factorial = lambda num: 1 if (num == 0 or num == 1) else num * my_factorial(num - 1)\n",
    "\n",
    "n = 5\n",
    "result = my_factorial(n)\n",
    "print (f\"So the factorial of {n} is {result}...\")\n",
    "\n",
    "n = 6\n",
    "result = my_factorial(n)\n",
    "print (f\"So the factorial of {n} is {result}...\")"
   ]
  },
  {
   "cell_type": "code",
   "execution_count": 18,
   "id": "9c89b74f-0a46-4bb8-9572-1aa675e84010",
   "metadata": {},
   "outputs": [
    {
     "name": "stdout",
     "output_type": "stream",
     "text": [
      "30\n",
      "80\n",
      "<class 'function'> <class 'function'>\n"
     ]
    }
   ],
   "source": [
    "def my_funct(num):\n",
    "    myproduct = lambda n: n * num\n",
    "    return myproduct\n",
    "\n",
    "var10 = my_funct(10)\n",
    "var20 = my_funct(20)\n",
    "print (var10(3))\n",
    "print (var20(4))\n",
    "print (type(var10), type(var20))"
   ]
  },
  {
   "cell_type": "markdown",
   "id": "e6872b36-99f6-4fba-b388-a4cef5bf3157",
   "metadata": {},
   "source": [
    "### **Different Tips and Tricks with Python**"
   ]
  },
  {
   "cell_type": "markdown",
   "id": "cfdad15e-8e52-4070-ae49-7b263b6b26bf",
   "metadata": {},
   "source": [
    "### Expression Evaluation"
   ]
  },
  {
   "cell_type": "code",
   "execution_count": 21,
   "id": "1fcacba4-2054-498f-939f-b534a267dbeb",
   "metadata": {},
   "outputs": [
    {
     "name": "stdin",
     "output_type": "stream",
     "text": [
      "Please enter your expression:  100 + (2 * 3 + 500) * 10\n"
     ]
    },
    {
     "name": "stdout",
     "output_type": "stream",
     "text": [
      "So after evaluation of '100 + (2 * 3 + 500) * 10' the obtained value is 5160...\n"
     ]
    }
   ],
   "source": [
    "myexpr = input(\"Please enter your expression: \")\n",
    "result = eval(myexpr)\n",
    "print (f\"So after evaluation of '{myexpr}' the obtained value is {result}...\")"
   ]
  },
  {
   "cell_type": "markdown",
   "id": "903e55a3-710a-48ad-b0bf-3af11f5dec9f",
   "metadata": {},
   "source": [
    "### Python map() function"
   ]
  },
  {
   "cell_type": "code",
   "execution_count": null,
   "id": "5e644b81-dea0-4470-a2fe-a502bdd8b7e9",
   "metadata": {},
   "outputs": [],
   "source": [
    "# The map function executes a specified function for each item in an iterable.\n",
    "# The item is sent to the function as a parameter"
   ]
  },
  {
   "cell_type": "code",
   "execution_count": 28,
   "id": "4346d25d-707a-4528-ae01-e6b1ae208c73",
   "metadata": {},
   "outputs": [
    {
     "name": "stdout",
     "output_type": "stream",
     "text": [
      "[6, 8, 6, 9, 8]\n",
      "[6, 8, 6, 9, 8]\n"
     ]
    }
   ],
   "source": [
    "def my_funct(var1):\n",
    "    return len(var1)\n",
    "\n",
    "result = list(map(my_funct, ['Sunday', 'Saturday', 'Friday', 'Wednesday', 'Thursday']))\n",
    "print (result)\n",
    "result = list(map(my_funct, ('Sunday', 'Saturday', 'Friday', 'Wednesday', 'Thursday')))\n",
    "print (result)"
   ]
  },
  {
   "cell_type": "code",
   "execution_count": 32,
   "id": "0cce1b6c-9aee-45b9-8d70-3eeb2efe4096",
   "metadata": {},
   "outputs": [
    {
     "name": "stdout",
     "output_type": "stream",
     "text": [
      "var1 = 100 and var2 = 11...\n",
      "var1 = 300 and var2 = 33...\n",
      "var1 = 400 and var2 = 44...\n",
      "var1 = 200 and var2 = 22...\n",
      "var1 = 700 and var2 = 77...\n",
      "[111, 333, 444, 222, 777]\n"
     ]
    }
   ],
   "source": [
    "def my_funct(var1, var2):\n",
    "    print (f\"var1 = {var1} and var2 = {var2}...\")\n",
    "    return var1 + var2\n",
    "\n",
    "result = list(map(my_funct, [100, 300, 400, 200, 700], [11, 33, 44, 22, 77, 88]))\n",
    "print (result)"
   ]
  },
  {
   "cell_type": "code",
   "execution_count": 33,
   "id": "44105247-02e7-4c89-9f43-58603691cb86",
   "metadata": {},
   "outputs": [
    {
     "name": "stdout",
     "output_type": "stream",
     "text": [
      "var1 = Sund and var2 = ay...\n",
      "var1 = Fr and var2 = iday...\n",
      "var1 = Thursd and var2 = ay...\n",
      "var1 = Saturd and var2 = ay...\n",
      "var1 = Wedne and var2 = sday...\n",
      "['Sunday', 'Friday', 'Thursday', 'Saturday', 'Wednesday']\n"
     ]
    }
   ],
   "source": [
    "def my_funct(var1, var2):\n",
    "    print (f\"var1 = {var1} and var2 = {var2}...\")\n",
    "    return var1 + var2\n",
    "\n",
    "result = list(map(my_funct, [\"Sund\", \"Fr\", \"Thursd\", \"Saturd\", \"Wedne\"], [\"ay\", \"iday\", \"ay\", \"ay\", \"sday\"]))\n",
    "print (result)"
   ]
  },
  {
   "cell_type": "markdown",
   "id": "e69f1acc-7a69-4ec7-80f5-6c67577036e5",
   "metadata": {},
   "source": [
    "### Python filter() function"
   ]
  },
  {
   "cell_type": "code",
   "execution_count": null,
   "id": "a37e0211-f7fe-4620-bb25-1c9b0c8ffb27",
   "metadata": {},
   "outputs": [],
   "source": [
    "# The filter function returns where the items are filtered through a function to test\n",
    "# if the item is accepted or not"
   ]
  },
  {
   "cell_type": "code",
   "execution_count": 36,
   "id": "78253310-af3b-48b3-a65e-2a306ad80ae4",
   "metadata": {},
   "outputs": [
    {
     "name": "stdout",
     "output_type": "stream",
     "text": [
      "[77, 33, 20, 35]\n"
     ]
    }
   ],
   "source": [
    "def my_funct(x):\n",
    "    if (x < 18): return False\n",
    "    else: return True\n",
    "\n",
    "ages = [5, 77, 12, 33, 13, 20, 3, 35]\n",
    "adults = list(filter(my_funct, ages))\n",
    "print (adults)"
   ]
  },
  {
   "cell_type": "markdown",
   "id": "7364aa64-db70-442c-bd62-612e24c03469",
   "metadata": {},
   "source": [
    "### Python reduce() function"
   ]
  },
  {
   "cell_type": "code",
   "execution_count": null,
   "id": "e35f6fc6-1698-4fa0-834e-5c438e016f7e",
   "metadata": {},
   "outputs": [],
   "source": [
    "# The reduce function applies a function of two arguments cumulatively to the elements\n",
    "# of an iterable. Optionally starting with an initial argument."
   ]
  },
  {
   "cell_type": "code",
   "execution_count": 40,
   "id": "6c39e46a-3cd6-481a-94f7-7ca82e52e4ce",
   "metadata": {},
   "outputs": [
    {
     "name": "stdout",
     "output_type": "stream",
     "text": [
      "So first = 10 and second = 30...\n",
      "So first = 40 and second = 20...\n",
      "So first = 60 and second = 50...\n",
      "So first = 110 and second = 40...\n",
      "150\n",
      "\n",
      "So first = 1000 and second = 10...\n",
      "So first = 1010 and second = 30...\n",
      "So first = 1040 and second = 20...\n",
      "So first = 1060 and second = 50...\n",
      "So first = 1110 and second = 40...\n",
      "1150\n"
     ]
    }
   ],
   "source": [
    "from functools import reduce\n",
    "def custom_total(first, second):\n",
    "    print (f\"So first = {first} and second = {second}...\")\n",
    "    return first + second\n",
    "\n",
    "numbers = [10, 30, 20, 50, 40]\n",
    "result = reduce(custom_total, numbers)\n",
    "print (result)\n",
    "print ()\n",
    "numbers = [10, 30, 20, 50, 40]\n",
    "result = reduce(custom_total, numbers, 1000)\n",
    "print (result)"
   ]
  },
  {
   "cell_type": "markdown",
   "id": "b84288a6-4507-4225-abf4-a276bcc14287",
   "metadata": {},
   "source": [
    "### bisect_left and bisect_right"
   ]
  },
  {
   "cell_type": "code",
   "execution_count": 43,
   "id": "fc305285-4b1b-40b5-87f5-4890e0b24eca",
   "metadata": {},
   "outputs": [
    {
     "name": "stdout",
     "output_type": "stream",
     "text": [
      "3 3\n",
      "8 8\n",
      "0 0\n",
      "4 5\n"
     ]
    }
   ],
   "source": [
    "from bisect import bisect_left\n",
    "from bisect import bisect_right\n",
    "\n",
    "list1 = [11, 22, 33, 44, 55, 66, 77, 88]\n",
    "print (bisect_left(list1, 40), bisect_right(list1, 40))\n",
    "print (bisect_left(list1, 100), bisect_right(list1, 100))\n",
    "print (bisect_left(list1, 10), bisect_right(list1, 10))\n",
    "print (bisect_left(list1, 55), bisect_right(list1, 55))"
   ]
  },
  {
   "cell_type": "markdown",
   "id": "922a537c-65fc-44c4-ade1-3961839cf0d5",
   "metadata": {},
   "source": [
    "### Python zip() function"
   ]
  },
  {
   "cell_type": "code",
   "execution_count": 48,
   "id": "0e37d14d-ccfe-4141-b62b-4f3d80f8186c",
   "metadata": {},
   "outputs": [
    {
     "name": "stdout",
     "output_type": "stream",
     "text": [
      "<zip object at 0x000001BEEA5D8600>\n",
      "[('mango', 100), ('banana', 300), ('cherry', 230), ('apple', 450)]\n",
      "(('mango', 100), ('banana', 300), ('cherry', 230), ('apple', 450))\n",
      "{'mango': 100, 'banana': 300, 'cherry': 230, 'apple': 450}\n",
      "{'mango': 100, 'banana': 300, 'cherry': 230, 'apple': 450}\n",
      "{'mango': 100, 'banana': 300, 'cherry': 230, 'apple': 450}\n"
     ]
    }
   ],
   "source": [
    "fruits = [\"mango\", \"banana\", \"cherry\", 'apple']\n",
    "stocks = [100, 300, 230, 450, 700]\n",
    "\n",
    "print (zip(fruits, stocks))\n",
    "print (list(zip(fruits, stocks)))   # list of tuples\n",
    "print (tuple(zip(fruits, stocks)))   # tuple of tuples\n",
    "print (dict(list(zip(fruits, stocks))))   # dictionary\n",
    "print (dict(tuple(zip(fruits, stocks))))   # dictionary\n",
    "print (dict(zip(fruits, stocks)))   # dictionary"
   ]
  },
  {
   "cell_type": "markdown",
   "id": "3eef3d47-8839-4867-9600-4c451838d410",
   "metadata": {},
   "source": [
    "### Cartesian Product"
   ]
  },
  {
   "cell_type": "code",
   "execution_count": 52,
   "id": "212f2e51-71b9-44ea-a0f2-e6ec1c2c97c2",
   "metadata": {},
   "outputs": [
    {
     "name": "stdout",
     "output_type": "stream",
     "text": [
      "[(11, 100), (11, 200), (22, 100), (22, 200), (33, 100), (33, 200)]\n",
      "[(11, 100), (11, 200), (11, 300), (22, 100), (22, 200), (22, 300), (33, 100), (33, 200), (33, 300)]\n"
     ]
    }
   ],
   "source": [
    "from itertools import product\n",
    "list1 = [11, 22, 33]\n",
    "list2 = [100, 200]\n",
    "print (list(product(list1, list2)))   # list of tuples\n",
    "\n",
    "tuple1 = (11, 22, 33)\n",
    "tuple2 = (100, 200, 300)\n",
    "print (list(product(tuple1, tuple2)))   # list of tuples"
   ]
  },
  {
   "cell_type": "markdown",
   "id": "a6edfa48-64c2-43d5-84b4-065625a89c20",
   "metadata": {},
   "source": [
    "### Cycle"
   ]
  },
  {
   "cell_type": "code",
   "execution_count": 53,
   "id": "c3d25c66-4e6d-430d-bfab-5e649239d47a",
   "metadata": {},
   "outputs": [
    {
     "name": "stdout",
     "output_type": "stream",
     "text": [
      "<itertools.cycle object at 0x000001BEEA5DA440>\n",
      "('Amitava', 'Sen')\n",
      "Male\n",
      "True\n",
      "65000.0\n",
      "42\n",
      "[20, 12, 2018]\n",
      "('Amitava', 'Sen')\n",
      "Male\n"
     ]
    }
   ],
   "source": [
    "import itertools\n",
    "items = itertools.cycle([(\"Amitava\", \"Sen\"), \"Male\", True, 65000.00, 42, [20, 12, 2018]])\n",
    "print (items)\n",
    "print (next(items))\n",
    "print (next(items))\n",
    "print (next(items))\n",
    "print (next(items))\n",
    "print (next(items))\n",
    "print (next(items))\n",
    "print (next(items))\n",
    "print (next(items))"
   ]
  },
  {
   "cell_type": "markdown",
   "id": "6ef9c2ce-2003-4be2-a764-ff114030afa5",
   "metadata": {},
   "source": [
    "### Sorting of a Matrix"
   ]
  },
  {
   "cell_type": "code",
   "execution_count": 56,
   "id": "8412c3e7-6f2d-48ad-8a1e-f2515130a759",
   "metadata": {},
   "outputs": [
    {
     "name": "stdout",
     "output_type": "stream",
     "text": [
      "[[10, 14, 6], [2, -22, -7], [-3, 8, 10], [40, -18, 1]]\n",
      "[[2, -22, -7], [40, -18, 1], [10, 14, 6], [-3, 8, 10]]\n",
      "[[2, -22, -7], [40, -18, 1], [10, 14, 6], [-3, 8, 10]]\n"
     ]
    }
   ],
   "source": [
    "list1 = [10, 2, -3, 40]\n",
    "list2 = [14, -22, 8, -18]\n",
    "list3 = [6, -7, 10, 1]\n",
    "final_list = []\n",
    "for i in range(len(list1)):\n",
    "    final_list.append([list1[i], list2[i], list3[i]])\n",
    "print (final_list)\n",
    "final_list1 = sorted(final_list, key = lambda v: v[-1])\n",
    "print (final_list1)\n",
    "final_list.sort(key = lambda arr: arr[-1])\n",
    "print (final_list)"
   ]
  },
  {
   "cell_type": "markdown",
   "id": "76d40bbd-bb3e-42dc-8a6f-32d2fd1e8999",
   "metadata": {},
   "source": [
    "### Multiple Integers as User Input"
   ]
  },
  {
   "cell_type": "code",
   "execution_count": 58,
   "id": "18dce25e-6240-43b5-bf52-de28133bc102",
   "metadata": {},
   "outputs": [
    {
     "name": "stdin",
     "output_type": "stream",
     "text": [
      "Please enter youe set of integers:  11 33 22 55 44 55 66\n"
     ]
    },
    {
     "name": "stdout",
     "output_type": "stream",
     "text": [
      "['11', '33', '22', '55', '44', '55', '66']\n"
     ]
    }
   ],
   "source": [
    "my_input = input(\"Please enter youe set of integers: \").split()\n",
    "print (my_input)"
   ]
  },
  {
   "cell_type": "code",
   "execution_count": 62,
   "id": "e436cc94-cc48-4712-90a4-ce4d26bcd7c1",
   "metadata": {},
   "outputs": [
    {
     "name": "stdin",
     "output_type": "stream",
     "text": [
      "Please enter youe set of integers:  11 33 22 55 44 55 66\n"
     ]
    },
    {
     "name": "stdout",
     "output_type": "stream",
     "text": [
      "[11, 33, 22, 55, 44, 55, 66] <class 'list'> <class 'int'>\n"
     ]
    }
   ],
   "source": [
    "my_input = list(map(int, input(\"Please enter youe set of integers: \").split()))\n",
    "print (my_input, type(my_input), type(my_input[0]))"
   ]
  },
  {
   "cell_type": "markdown",
   "id": "52bd2677-4e8e-44b9-a905-72289df3192b",
   "metadata": {},
   "source": [
    "### List Comprehension"
   ]
  },
  {
   "cell_type": "code",
   "execution_count": null,
   "id": "a7166ae8-e386-4898-a70a-afa780368190",
   "metadata": {},
   "outputs": [],
   "source": [
    "# list comprehension is a complete substitute to for loops, lambda functions and\n",
    "# as well as the high end functions e.g. map(), filter() and reduce()"
   ]
  },
  {
   "cell_type": "code",
   "execution_count": 64,
   "id": "8c56cb94-4c0b-4920-a181-e2c55045b460",
   "metadata": {},
   "outputs": [
    {
     "name": "stdout",
     "output_type": "stream",
     "text": [
      "[0, 1, 4, 9, 16, 25, 36, 49, 64, 81]\n",
      "[0, 1, 4, 9, 16, 25, 36, 49, 64, 81]\n"
     ]
    }
   ],
   "source": [
    "# how to replace for loop in creation of a list\n",
    "list1 = []\n",
    "for x in range(10):\n",
    "    list1.append(x ** 2)\n",
    "print (list1)\n",
    "\n",
    "# list comprehension\n",
    "list1 = [x ** 2 for x in range(10)]\n",
    "print (list1)"
   ]
  },
  {
   "cell_type": "code",
   "execution_count": 65,
   "id": "5bf25ac9-d420-431a-b6f6-61ae31d2dc0e",
   "metadata": {},
   "outputs": [
    {
     "name": "stdout",
     "output_type": "stream",
     "text": [
      "[0, 2, 4, 6, 8, 10, 12, 14, 16, 18]\n",
      "[0, 2, 4, 6, 8, 10, 12, 14, 16, 18]\n"
     ]
    }
   ],
   "source": [
    "list1 = []\n",
    "for x in range(10):\n",
    "    list1.append(2 * x)\n",
    "print (list1)\n",
    "\n",
    "# list comprehension\n",
    "list1 = [2 * x for x in range(10)]\n",
    "print (list1)"
   ]
  },
  {
   "cell_type": "code",
   "execution_count": 69,
   "id": "964e8ddb-38a8-481a-ae0b-6c79ddc767d5",
   "metadata": {},
   "outputs": [
    {
     "name": "stdin",
     "output_type": "stream",
     "text": [
      " 11\n",
      " 22\n",
      " 33\n",
      " 44\n",
      " 55\n",
      " 66\n",
      " 77\n",
      " 88\n"
     ]
    },
    {
     "name": "stdout",
     "output_type": "stream",
     "text": [
      "[[11, 22, 33, 44], [55, 66, 77, 88]]\n"
     ]
    }
   ],
   "source": [
    "# forming a list of lists using list comprehension\n",
    "list1 = [[int(input()) for i in range(4)] for j in range(2)]\n",
    "print (list1)  # list of lists"
   ]
  },
  {
   "cell_type": "code",
   "execution_count": 70,
   "id": "be77d366-4508-4a31-8e36-dd35eb442f2f",
   "metadata": {},
   "outputs": [
    {
     "name": "stdout",
     "output_type": "stream",
     "text": [
      "[2, 4, 6, 8, 10]\n",
      "[2, 4, 6, 8, 10]\n"
     ]
    }
   ],
   "source": [
    "list1 = [1, 2, 3, 4, 5, 6, 7, 8, 9, 10]\n",
    "list2 = []\n",
    "for x in list1:\n",
    "    if (x % 2 == 0):\n",
    "        list2.append(x)\n",
    "print (list2)\n",
    "\n",
    "# list comprehension with if condition\n",
    "list2 = [x for x in list1 if x % 2 == 0]\n",
    "print (list2)"
   ]
  },
  {
   "cell_type": "code",
   "execution_count": 74,
   "id": "e23cd4f9-1ce1-412b-b1f8-0d2adbb8bd4d",
   "metadata": {},
   "outputs": [
    {
     "name": "stdout",
     "output_type": "stream",
     "text": [
      "[12, 18]\n",
      "[12, 18]\n",
      "[12, 18]\n"
     ]
    }
   ],
   "source": [
    "list1 = [11, 12, 13, 14, 15, 16, 17, 18]\n",
    "list2 = []\n",
    "for x in list1:\n",
    "    if x % 2 == 0:\n",
    "        if x % 3 == 0:\n",
    "            list2.append(x)\n",
    "print (list2)\n",
    "\n",
    "# list comprehension with multiple if conditions\n",
    "list2 = [x for x in list1 if x % 2 == 0 if x % 3 == 0]\n",
    "print (list2)\n",
    "list2 = [x for x in list1 if x % 2 == 0 and x % 3 == 0]\n",
    "print (list2)"
   ]
  },
  {
   "cell_type": "code",
   "execution_count": 76,
   "id": "8af616b0-bfa3-4dff-b6a5-3f8e82c9d33e",
   "metadata": {},
   "outputs": [
    {
     "name": "stdout",
     "output_type": "stream",
     "text": [
      "[2, 3, 4, 5, 10, 11, 12, 13]\n",
      "[2, 3, 4, 5, 10, 11, 12, 13]\n"
     ]
    }
   ],
   "source": [
    "list1 = [1, 2, 3, 4, 5, 6, 7, 8]\n",
    "list2 = []\n",
    "for x in list1:\n",
    "    if x > 4:\n",
    "        list2.append(x + 5)\n",
    "    else:\n",
    "        list2.append(x + 1)\n",
    "print (list2)\n",
    "\n",
    "# list comprehension with if-else condition\n",
    "list2 = [x + 5 if x > 4 else x + 1 for x in list1]\n",
    "print (list2)"
   ]
  },
  {
   "cell_type": "code",
   "execution_count": 78,
   "id": "cdf1d19a-b52f-45f0-bdaf-4e74fb2ead3f",
   "metadata": {},
   "outputs": [
    {
     "name": "stdout",
     "output_type": "stream",
     "text": [
      "[1, 2, 3, 4, 5, 6, 7, 8]\n",
      "[1, 2, 3, 4, 5, 6, 7, 8]\n"
     ]
    }
   ],
   "source": [
    "# flatten on a list\n",
    "list1 = [[1, 2, 3], [4, 5, 6], [7, 8]]\n",
    "list2 = []\n",
    "for temp_list in list1:\n",
    "    for x in temp_list:\n",
    "        list2.append(x)\n",
    "print (list2)\n",
    "\n",
    "# nested list comprehension to flatten a list\n",
    "list2 = [item for temp_list in list1 for item in temp_list]\n",
    "print (list2)"
   ]
  },
  {
   "cell_type": "code",
   "execution_count": 84,
   "id": "fbe94428-ac1d-4a19-a4a8-ae721b24c099",
   "metadata": {},
   "outputs": [
    {
     "name": "stdout",
     "output_type": "stream",
     "text": [
      "[[1, 4, 7], [2, 5, 8], [3, 6, 9]]\n",
      "[[1, 4, 7], [2, 5, 8], [3, 6, 9]]\n"
     ]
    }
   ],
   "source": [
    "# transpose of a matrix\n",
    "matrix = [[1, 2, 3], [4, 5, 6], [7, 8, 9]]\n",
    "list1 = []\n",
    "for i in range(3):\n",
    "    temp_list = []\n",
    "    for j in range(3):\n",
    "        temp_list.append(matrix[j][i])\n",
    "    list1.append(temp_list)\n",
    "print (list1)\n",
    "\n",
    "# nested list comprehensions, transpose of a matrix\n",
    "list1 = [[row[i] for row in matrix] for i in range(3)]\n",
    "print (list1)"
   ]
  },
  {
   "cell_type": "code",
   "execution_count": 88,
   "id": "c309b2f2-f3c8-483d-9326-ed80014dc550",
   "metadata": {},
   "outputs": [
    {
     "name": "stdout",
     "output_type": "stream",
     "text": [
      "[[0, 0, 0, 0], [0, 0, 0, 0], [0, 0, 0, 0]]\n",
      "[[0, 0, 0, 0], [0, 0, 0, 0], [0, 0, 0, 0]]\n"
     ]
    }
   ],
   "source": [
    "list1 = []\n",
    "for x in range(3):\n",
    "    temp_list = []\n",
    "    for y in range(4):\n",
    "        temp_list.append(0)\n",
    "    list1.append(temp_list)\n",
    "print (list1)\n",
    "\n",
    "# nested list comprehensions, creation of a matrix\n",
    "list1 = [[0 for col in range(4)] for row in range(3)]\n",
    "print (list1)"
   ]
  },
  {
   "cell_type": "code",
   "execution_count": 90,
   "id": "9ce019b5-10c4-486b-b2cc-9809dfc9d878",
   "metadata": {},
   "outputs": [
    {
     "name": "stdout",
     "output_type": "stream",
     "text": [
      "[[], [0], [0, 0], [0, 0, 0]]\n",
      "[[], [0], [0, 0], [0, 0, 0]]\n"
     ]
    }
   ],
   "source": [
    "list1 = []\n",
    "for x in range(4):\n",
    "    temp_list = []\n",
    "    for y in range(x):\n",
    "        temp_list.append(0)\n",
    "    list1.append(temp_list)\n",
    "print (list1)\n",
    "\n",
    "# nested list comprehensions, creation of a matrix\n",
    "list1 = [[0 for col in range(row)] for row in range(4)]\n",
    "print (list1)"
   ]
  },
  {
   "cell_type": "code",
   "execution_count": 93,
   "id": "1876acb1-d72f-4fbf-8d2a-c14d8a1d37ff",
   "metadata": {},
   "outputs": [
    {
     "name": "stdout",
     "output_type": "stream",
     "text": [
      "[20, 40, 60, 80, 100, 120, 140, 160]\n",
      "[20, 40, 60, 80, 100, 120, 140, 160]\n"
     ]
    }
   ],
   "source": [
    "# replacing map() in combination with lambda function\n",
    "list1 = [10, 20, 30, 40, 50, 60, 70, 80]\n",
    "list2 = list(map(lambda x: 2 * x, list1))\n",
    "print (list2)\n",
    "\n",
    "# list comprehension\n",
    "list2 = [2 * x for x in list1]\n",
    "print (list2)"
   ]
  },
  {
   "cell_type": "code",
   "execution_count": 98,
   "id": "48d523c0-fb37-4d57-a124-1753d1e019d5",
   "metadata": {},
   "outputs": [
    {
     "name": "stdout",
     "output_type": "stream",
     "text": [
      "[11, 33, 55, 77]\n",
      "[11, 33, 55, 77]\n",
      "[11, 33, 55, 77]\n"
     ]
    }
   ],
   "source": [
    "# replacing filter() in combinaion with lambda function\n",
    "list1 = [11, 22, 33, 44, 55, 66, 77, 88]\n",
    "oddnum = list(filter(lambda x: x % 2, list1))\n",
    "print (oddnum)\n",
    "\n",
    "# list comprehension\n",
    "oddnum = [x for x in list1 if x % 2 == 1]\n",
    "print (oddnum)\n",
    "oddnum = [x for x in list1 if x % 2]\n",
    "print (oddnum)"
   ]
  },
  {
   "cell_type": "code",
   "execution_count": 101,
   "id": "5a3e68d6-8f63-46b5-88ec-7f15df9e0c94",
   "metadata": {},
   "outputs": [
    {
     "name": "stdout",
     "output_type": "stream",
     "text": [
      "3600\n",
      "3600\n"
     ]
    }
   ],
   "source": [
    "# replacing reduce in combination with lambda function\n",
    "from functools import reduce\n",
    "list1 = [100, 200, 300, 400, 500, 600, 700, 800]\n",
    "result = reduce(lambda x, y: x + y, list1)\n",
    "print (result)\n",
    "\n",
    "# list comprehension\n",
    "result = sum([x for x in list1])\n",
    "print (result)"
   ]
  },
  {
   "cell_type": "code",
   "execution_count": null,
   "id": "87233a03-3ab5-40ea-9778-e495a61c655c",
   "metadata": {},
   "outputs": [],
   "source": []
  }
 ],
 "metadata": {
  "kernelspec": {
   "display_name": "Python 3 (ipykernel)",
   "language": "python",
   "name": "python3"
  },
  "language_info": {
   "codemirror_mode": {
    "name": "ipython",
    "version": 3
   },
   "file_extension": ".py",
   "mimetype": "text/x-python",
   "name": "python",
   "nbconvert_exporter": "python",
   "pygments_lexer": "ipython3",
   "version": "3.10.9"
  }
 },
 "nbformat": 4,
 "nbformat_minor": 5
}
