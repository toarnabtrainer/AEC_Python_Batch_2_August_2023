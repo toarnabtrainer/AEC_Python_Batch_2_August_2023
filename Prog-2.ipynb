{
 "cells": [
  {
   "cell_type": "markdown",
   "id": "7a770f43-ae03-47b5-8b54-d79c8c50e475",
   "metadata": {},
   "source": [
    "### **String Processing**"
   ]
  },
  {
   "cell_type": "code",
   "execution_count": null,
   "id": "fef16445-9c0a-4ade-be8d-1cc351f6ae53",
   "metadata": {},
   "outputs": [],
   "source": [
    "Left to Right ->   0   1   2   3   4   5   6   7   8   9\n",
    "        mystr ->   u   n   i   v   e   r   s   i   t   y\n",
    "Right to Left -> -10  -9  -8  -7  -6  -5  -4  -3  -2  -1"
   ]
  },
  {
   "cell_type": "code",
   "execution_count": 21,
   "id": "467119ff-9638-49d1-bb21-b76bf79f393a",
   "metadata": {},
   "outputs": [
    {
     "name": "stdout",
     "output_type": "stream",
     "text": [
      "university 10 <class 'str'> 2258427820784\n",
      "i i i i e e\n",
      "univer univer univer univer\n",
      "sity sity\n",
      "niversi niversi niversi niversi\n",
      "ver ver ver ver\n",
      "nvriy uiest yirvn yirvn tseiu tseiu\n",
      "ytisrevinu\n"
     ]
    }
   ],
   "source": [
    "mystr = \"university\"\n",
    "print (mystr, len(mystr), type(mystr), id(mystr))\n",
    "print (mystr[2], mystr[-8], mystr[7], mystr[-3], mystr[4], mystr[-6]) # indexing\n",
    "print (mystr[0:6], mystr[0:-4], mystr[:6], mystr[:-4]) # slicing\n",
    "print (mystr[6:], mystr[-4:])\n",
    "print (mystr[1:8], mystr[-9:-2], mystr[1:-2], mystr[-9:8])\n",
    "print (mystr[3:6], mystr[-7:-4], mystr[3:-4], mystr[-7:6])\n",
    "print (mystr[1::2], mystr[0::2], mystr[9:0:-2], mystr[-1:0:-2], mystr[8::-2], mystr[-2::-2])\n",
    "print (mystr[::-1])"
   ]
  },
  {
   "cell_type": "code",
   "execution_count": 24,
   "id": "9dc5bf8c-bca3-4ba6-b5fa-3e424732b947",
   "metadata": {},
   "outputs": [
    {
     "name": "stdout",
     "output_type": "stream",
     "text": [
      "calCUtTa unIVerSitY 19 <class 'str'> 2258422536016\n",
      "CALCUTTA UNIVERSITY\n",
      "calcutta university\n",
      "Calcutta university\n",
      "Calcutta University\n",
      "CALcuTtA UNivERsITy\n",
      "          calCUtTa unIVerSitY           \n",
      "          CALCUTTA UNIVERSITY           \n",
      "          CALCUTTA UNIVERSITY           \n"
     ]
    }
   ],
   "source": [
    "mystr = \"calCUtTa unIVerSitY\"\n",
    "print (mystr, len(mystr), type(mystr), id(mystr))\n",
    "print (mystr.upper())\n",
    "print (mystr.lower())\n",
    "print (mystr.capitalize())\n",
    "print (mystr.title())\n",
    "print (mystr.swapcase())\n",
    "print (mystr.center(40))\n",
    "print (mystr.upper().center(40))\n",
    "print (mystr.center(40).upper())"
   ]
  },
  {
   "cell_type": "code",
   "execution_count": 32,
   "id": "0a600655-924a-46ba-b6e6-6615e3850232",
   "metadata": {},
   "outputs": [
    {
     "name": "stdout",
     "output_type": "stream",
     "text": [
      "charity begins at home 22 <class 'str'> 2258454780928\n",
      "2 4 11 -1\n",
      "-1 2 10 -1\n"
     ]
    }
   ],
   "source": [
    "mystr = \"charity begins at home\"\n",
    "print (mystr, len(mystr), type(mystr), id(mystr))\n",
    "print (mystr.find(\"ari\"), mystr.find(\"i\"), mystr.find(\"i\", 5), mystr.find(\"i\", 12))\n",
    "print (mystr.find(\"ArI\"), mystr.find(\"ArI\".lower()), mystr.find(\"gins\", 8), mystr.find(\"gins\", 8, 12))"
   ]
  },
  {
   "cell_type": "code",
   "execution_count": 37,
   "id": "ffa732e6-8142-4506-9b6d-91330ce693c0",
   "metadata": {},
   "outputs": [
    {
     "name": "stdout",
     "output_type": "stream",
     "text": [
      "charity begins at home 22 <class 'str'> 2258429977792\n",
      "2\n",
      "4\n",
      "11\n"
     ]
    },
    {
     "ename": "ValueError",
     "evalue": "substring not found",
     "output_type": "error",
     "traceback": [
      "\u001b[1;31m---------------------------------------------------------------------------\u001b[0m",
      "\u001b[1;31mValueError\u001b[0m                                Traceback (most recent call last)",
      "Cell \u001b[1;32mIn[37], line 6\u001b[0m\n\u001b[0;32m      4\u001b[0m \u001b[38;5;28mprint\u001b[39m (mystr\u001b[38;5;241m.\u001b[39mindex(\u001b[38;5;124m\"\u001b[39m\u001b[38;5;124mi\u001b[39m\u001b[38;5;124m\"\u001b[39m))\n\u001b[0;32m      5\u001b[0m \u001b[38;5;28mprint\u001b[39m (mystr\u001b[38;5;241m.\u001b[39mindex(\u001b[38;5;124m\"\u001b[39m\u001b[38;5;124mi\u001b[39m\u001b[38;5;124m\"\u001b[39m, \u001b[38;5;241m5\u001b[39m))\n\u001b[1;32m----> 6\u001b[0m \u001b[38;5;28mprint\u001b[39m (\u001b[43mmystr\u001b[49m\u001b[38;5;241;43m.\u001b[39;49m\u001b[43mindex\u001b[49m\u001b[43m(\u001b[49m\u001b[38;5;124;43m\"\u001b[39;49m\u001b[38;5;124;43mi\u001b[39;49m\u001b[38;5;124;43m\"\u001b[39;49m\u001b[43m,\u001b[49m\u001b[43m \u001b[49m\u001b[38;5;241;43m12\u001b[39;49m\u001b[43m)\u001b[49m)\n",
      "\u001b[1;31mValueError\u001b[0m: substring not found"
     ]
    }
   ],
   "source": [
    "mystr = \"charity begins at home\"\n",
    "print (mystr, len(mystr), type(mystr), id(mystr))\n",
    "print (mystr.index(\"ari\"))\n",
    "print (mystr.index(\"i\"))\n",
    "print (mystr.index(\"i\", 5))\n",
    "print (mystr.index(\"i\", 12))"
   ]
  },
  {
   "cell_type": "code",
   "execution_count": 36,
   "id": "93ee5c3a-1c8b-451a-8016-6baa22762507",
   "metadata": {},
   "outputs": [
    {
     "name": "stdout",
     "output_type": "stream",
     "text": [
      "charity begins at home 22 <class 'str'> 2258457822112\n",
      "2\n",
      "4\n",
      "11\n",
      "Unsuccessful Searching...!!!\n"
     ]
    }
   ],
   "source": [
    "mystr = \"charity begins at home\"\n",
    "print (mystr, len(mystr), type(mystr), id(mystr))\n",
    "try:\n",
    "    print (mystr.index(\"ari\"))\n",
    "    print (mystr.index(\"i\"))\n",
    "    print (mystr.index(\"i\", 5))\n",
    "    print (mystr.index(\"i\", 12))\n",
    "except ValueError as ve:\n",
    "    print (\"Unsuccessful Searching...!!!\")"
   ]
  },
  {
   "cell_type": "code",
   "execution_count": 40,
   "id": "c838f0cd-fc46-4983-a0b2-a82cd89c23eb",
   "metadata": {},
   "outputs": [
    {
     "name": "stdout",
     "output_type": "stream",
     "text": [
      "    calcutta     university       33 <class 'str'> 2258464978960\n",
      "calcutta     university 23\n",
      "calcutta     university       29\n",
      "    calcutta     university 27\n"
     ]
    }
   ],
   "source": [
    "mystr = \"    calcutta     university      \"\n",
    "print (mystr, len(mystr), type(mystr), id(mystr))\n",
    "print (mystr.strip(), len(mystr.strip()))\n",
    "print (mystr.lstrip(), len(mystr.lstrip()))\n",
    "print (mystr.rstrip(), len(mystr.rstrip()))"
   ]
  },
  {
   "cell_type": "code",
   "execution_count": 41,
   "id": "5b60c67b-4552-4f53-b534-55beb741137d",
   "metadata": {},
   "outputs": [
    {
     "name": "stdout",
     "output_type": "stream",
     "text": [
      "#@##calcutta@###@university@#@#@@ 33 <class 'str'> 2258464978864\n",
      "calcutta@###@university 23\n",
      "calcutta@###@university@#@#@@ 29\n",
      "#@##calcutta@###@university 27\n"
     ]
    }
   ],
   "source": [
    "mystr = \"#@##calcutta@###@university@#@#@@\"\n",
    "print (mystr, len(mystr), type(mystr), id(mystr))\n",
    "print (mystr.strip(\"#@\"), len(mystr.strip(\"#@\")))\n",
    "print (mystr.lstrip(\"#@\"), len(mystr.lstrip(\"#@\")))\n",
    "print (mystr.rstrip(\"#@\"), len(mystr.rstrip(\"#@\")))"
   ]
  },
  {
   "cell_type": "code",
   "execution_count": 43,
   "id": "208d568c-b2fb-40c2-a6b8-e5c259cdab43",
   "metadata": {},
   "outputs": [
    {
     "name": "stdout",
     "output_type": "stream",
     "text": [
      "charity begins at home 22 <class 'str'> 2258465390256\n",
      "True False\n",
      "False True\n",
      "True False\n"
     ]
    }
   ],
   "source": [
    "mystr = \"charity begins at home\"\n",
    "print (mystr, len(mystr), type(mystr), id(mystr))\n",
    "print (mystr.startswith(\"cha\"), mystr.startswith(\"Cha\"))\n",
    "print (mystr.startswith(\"beg\"), mystr.startswith(\"beg\", 8))\n",
    "print (mystr.startswith(\"beg\", 8, 1000), mystr.startswith(\"beg\", 8, 10))"
   ]
  },
  {
   "cell_type": "code",
   "execution_count": 48,
   "id": "462fd3ae-b86a-41ba-8d60-abd3fa19206a",
   "metadata": {},
   "outputs": [
    {
     "name": "stdout",
     "output_type": "stream",
     "text": [
      "charity begins at home 22 <class 'str'> 2258465386176\n",
      "True False\n",
      "True\n",
      "False\n",
      "False\n"
     ]
    }
   ],
   "source": [
    "mystr = \"charity begins at home\"\n",
    "print (mystr, len(mystr), type(mystr), id(mystr))\n",
    "print (mystr.endswith(\"ome\"), mystr.endswith(\"gins\"))\n",
    "print (mystr.endswith(\"gins\", 0, 14))\n",
    "print (mystr.endswith(\"gins\", 0, 13))\n",
    "print (mystr.endswith(\"gins\", 11, 14))"
   ]
  },
  {
   "cell_type": "code",
   "execution_count": 50,
   "id": "0b188dea-886b-4ab7-a954-94812f4c2821",
   "metadata": {},
   "outputs": [
    {
     "name": "stdout",
     "output_type": "stream",
     "text": [
      "G\n",
      "a\n",
      "g\n",
      "a\n",
      "n\n"
     ]
    }
   ],
   "source": [
    "mystr = \"Gagan\"\n",
    "for ch in mystr:\n",
    "    print (ch)"
   ]
  },
  {
   "cell_type": "code",
   "execution_count": 53,
   "id": "b8b7fd03-7567-49f7-9b80-24097184dace",
   "metadata": {},
   "outputs": [
    {
     "name": "stdout",
     "output_type": "stream",
     "text": [
      "G\n",
      "a\n",
      "g\n",
      "a\n",
      "n\n"
     ]
    }
   ],
   "source": [
    "mystr = \"Gagan\"\n",
    "for i in range(len(mystr)):\n",
    "    print (mystr[i])   # indexing"
   ]
  },
  {
   "cell_type": "code",
   "execution_count": 52,
   "id": "be2602b0-2e32-402d-af63-6159dc80b863",
   "metadata": {},
   "outputs": [
    {
     "name": "stdout",
     "output_type": "stream",
     "text": [
      "[0, 1, 2, 3, 4]\n"
     ]
    }
   ],
   "source": [
    "print (list(range(5)))"
   ]
  },
  {
   "cell_type": "code",
   "execution_count": 54,
   "id": "222afb82-a6b5-4e2c-a584-9b8025a1b087",
   "metadata": {},
   "outputs": [
    {
     "name": "stdout",
     "output_type": "stream",
     "text": [
      "mississippi\n",
      "['m', 'i', 's', 's', 'i', 's', 's', 'i', 'p', 'p', 'i']\n",
      "('m', 'i', 's', 's', 'i', 's', 's', 'i', 'p', 'p', 'i')\n",
      "{'i', 'm', 'p', 's'}\n",
      "frozenset({'i', 'm', 'p', 's'})\n"
     ]
    }
   ],
   "source": [
    "mystr = \"mississippi\"\n",
    "print (mystr)\n",
    "print (list(mystr))\n",
    "print (tuple(mystr))\n",
    "print (set(mystr))\n",
    "print (frozenset(mystr))"
   ]
  },
  {
   "cell_type": "code",
   "execution_count": 59,
   "id": "51979055-ee2f-48a6-ac37-e3b25dc640af",
   "metadata": {},
   "outputs": [
    {
     "name": "stdout",
     "output_type": "stream",
     "text": [
      "charity begins at home\n",
      "['charity', 'begins', 'at', 'home'] <class 'list'>\n",
      "['char', 'ty beg', 'ns at home'] <class 'list'>\n",
      "['charity begins at home'] <class 'list'>\n",
      "['charity be', ' at home'] <class 'list'>\n"
     ]
    }
   ],
   "source": [
    "mystr = \"charity begins at home\"\n",
    "print (mystr)\n",
    "result = mystr.split()\n",
    "print (result, type(result))\n",
    "result = mystr.split(\"i\")\n",
    "print (result, type(result))\n",
    "result = mystr.split(\"x\")\n",
    "print (result, type(result))\n",
    "result = mystr.split(\"gins\")\n",
    "print (result, type(result))"
   ]
  },
  {
   "cell_type": "code",
   "execution_count": 64,
   "id": "fa47caca-8ec4-4d2d-adfa-ba26859bd43a",
   "metadata": {},
   "outputs": [
    {
     "name": "stdout",
     "output_type": "stream",
     "text": [
      "True False\n",
      "True False\n",
      "False True\n",
      "False True\n"
     ]
    }
   ],
   "source": [
    "print (\"i\" in \"university\", \"i\" not in \"university\")\n",
    "print (\"niv\" in \"university\", \"niv\" not in \"university\")\n",
    "print (\"wxyz\" in \"university\", \"wxyz\" not in \"university\")\n",
    "print (\"I\" in \"university\", \"I\" not in \"university\")"
   ]
  },
  {
   "cell_type": "code",
   "execution_count": 65,
   "id": "a0f8b5a3-af38-4c7d-b868-a2fd0e1db010",
   "metadata": {},
   "outputs": [
    {
     "name": "stdout",
     "output_type": "stream",
     "text": [
      "Help on method_descriptor:\n",
      "\n",
      "split(self, /, sep=None, maxsplit=-1)\n",
      "    Return a list of the substrings in the string, using sep as the separator string.\n",
      "    \n",
      "      sep\n",
      "        The separator used to split the string.\n",
      "    \n",
      "        When set to None (the default value), will split on any whitespace\n",
      "        character (including \\\\n \\\\r \\\\t \\\\f and spaces) and will discard\n",
      "        empty strings from the result.\n",
      "      maxsplit\n",
      "        Maximum number of splits (starting from the left).\n",
      "        -1 (the default value) means no limit.\n",
      "    \n",
      "    Note, str.split() is mainly useful for data that has been intentionally\n",
      "    delimited.  With natural text that includes punctuation, consider using\n",
      "    the regular expression module.\n",
      "\n"
     ]
    }
   ],
   "source": [
    "help(str.split)"
   ]
  },
  {
   "cell_type": "code",
   "execution_count": 71,
   "id": "1c75e465-e815-47cc-8989-4be4713794e6",
   "metadata": {},
   "outputs": [
    {
     "name": "stdout",
     "output_type": "stream",
     "text": [
      "charity begins at home\n",
      "['charity', 'begins', 'at', 'home']\n",
      "charity begins at home\n",
      "charity - begins - at - home\n",
      "charity, begins, at, home\n"
     ]
    }
   ],
   "source": [
    "mystr = \"charity begins at home\"\n",
    "print (mystr)\n",
    "result = mystr.split()\n",
    "print (result)\n",
    "outputstr = \" \".join(result)\n",
    "print (outputstr)\n",
    "outputstr = \" - \".join(result)\n",
    "print (outputstr)\n",
    "outputstr = \", \".join(result)\n",
    "print (outputstr)"
   ]
  },
  {
   "cell_type": "code",
   "execution_count": 72,
   "id": "c73c943d-cde9-4373-8c36-ee091f934fd4",
   "metadata": {},
   "outputs": [
    {
     "name": "stdout",
     "output_type": "stream",
     "text": [
      "4\n",
      "2\n",
      "1\n",
      "4\n"
     ]
    }
   ],
   "source": [
    "mystr = \"mississippi\"\n",
    "print (mystr.count(\"i\"))\n",
    "print (mystr.count(\"p\"))\n",
    "print (mystr.count(\"m\"))\n",
    "print (mystr.count(\"s\"))"
   ]
  },
  {
   "cell_type": "code",
   "execution_count": 73,
   "id": "76e088f0-32b3-4a60-971b-a289f01c0a05",
   "metadata": {},
   "outputs": [
    {
     "name": "stdout",
     "output_type": "stream",
     "text": [
      "good night\n",
      "good morning\n",
      "good evening\n",
      "good evening\n"
     ]
    }
   ],
   "source": [
    "mystr = \"good night\"\n",
    "print (mystr)\n",
    "mystr = mystr.replace(\"night\", \"morning\")\n",
    "print (mystr)\n",
    "mystr = mystr.replace(\"morning\", \"evening\")\n",
    "print (mystr)\n",
    "mystr = mystr.replace(\"day\", \"night\")\n",
    "print (mystr)"
   ]
  },
  {
   "cell_type": "code",
   "execution_count": 76,
   "id": "a1978284-b7c4-4c8b-9343-43b5ba4b171d",
   "metadata": {},
   "outputs": [
    {
     "name": "stdout",
     "output_type": "stream",
     "text": [
      "1234 False True True True\n",
      "abcd True True False False\n",
      "1234abcd False True False False\n",
      "1234@abcd False False False False\n",
      "四 True True True False\n",
      "     True\n"
     ]
    }
   ],
   "source": [
    "mystr = \"1234\"\n",
    "print (mystr, mystr.isalpha(), mystr.isalnum(), mystr.isnumeric(), mystr.isdigit())\n",
    "mystr = \"abcd\"\n",
    "print (mystr, mystr.isalpha(), mystr.isalnum(), mystr.isnumeric(), mystr.isdigit())\n",
    "mystr = \"1234abcd\"\n",
    "print (mystr, mystr.isalpha(), mystr.isalnum(), mystr.isnumeric(), mystr.isdigit())\n",
    "mystr = \"1234@abcd\"\n",
    "print (mystr, mystr.isalpha(), mystr.isalnum(), mystr.isnumeric(), mystr.isdigit())\n",
    "mystr = \"四\"\n",
    "print (mystr, mystr.isalpha(), mystr.isalnum(), mystr.isnumeric(), mystr.isdigit())\n",
    "mystr = \"    \"\n",
    "print (mystr, mystr.isspace())"
   ]
  },
  {
   "cell_type": "markdown",
   "id": "1f0c778c-2a51-4d4f-b385-f43cdff93e4c",
   "metadata": {},
   "source": [
    "### Class Assignment"
   ]
  },
  {
   "cell_type": "code",
   "execution_count": null,
   "id": "3d667f05-0d64-4eac-8155-507baeecb7d9",
   "metadata": {},
   "outputs": [],
   "source": [
    "Take a string from the user input. The string may contain upper and lower case characters, spaces, digits\n",
    "and special characters. E.g. \"unI234v@#  ersiT78@#y\"\n",
    "Now find the number of vowels and consonants within that string.\n",
    "Here for the given input, output will be:\n",
    "Vowel count = 4\n",
    "Consonant count = 6"
   ]
  },
  {
   "cell_type": "code",
   "execution_count": 77,
   "id": "8a2c9860-836f-4e8a-9b0a-e4b690e2b8a2",
   "metadata": {},
   "outputs": [
    {
     "name": "stdin",
     "output_type": "stream",
     "text": [
      "Please enter your string:  unI234v@#  ersiT78@#y\n"
     ]
    },
    {
     "name": "stdout",
     "output_type": "stream",
     "text": [
      "So the input string will have vowel count = 4 and consonant count = 6...\n",
      "End of the program...\n"
     ]
    }
   ],
   "source": [
    "mystr = input(\"Please enter your string: \")\n",
    "ccount = 0\n",
    "vcount = 0\n",
    "for ch in mystr.lower():\n",
    "    if (ch.isalpha()):\n",
    "        if (ch in \"aeiou\"): vcount += 1\n",
    "        else: ccount += 1\n",
    "print (f\"So the input string will have vowel count = {vcount} and consonant count = {ccount}...\")\n",
    "print (\"End of the program...\")"
   ]
  },
  {
   "cell_type": "code",
   "execution_count": null,
   "id": "9e1a4273-6fe2-4a70-a5fd-dfcb94755b2f",
   "metadata": {},
   "outputs": [],
   "source": []
  },
  {
   "cell_type": "markdown",
   "id": "427b89c9-3dd8-437f-bec2-378620abcbfc",
   "metadata": {},
   "source": [
    "### **List Processing**"
   ]
  },
  {
   "cell_type": "code",
   "execution_count": 78,
   "id": "63dc521c-c572-4ef2-b0de-26cc7e758bfa",
   "metadata": {},
   "outputs": [
    {
     "name": "stdout",
     "output_type": "stream",
     "text": [
      "[100, 400, 300, 200, 900] 5 <class 'list'> 2258394976000\n",
      "900 100\n",
      "1900 380.0\n"
     ]
    }
   ],
   "source": [
    "list1 = [100, 400, 300, 200, 900]\n",
    "print (list1, len(list1), type(list1), id(list1))\n",
    "print (max(list1), min(list1))\n",
    "print (sum(list1), sum(list1) / len(list1))"
   ]
  },
  {
   "cell_type": "code",
   "execution_count": 83,
   "id": "2a830213-3ec8-47cf-8425-824ffbad9947",
   "metadata": {},
   "outputs": [
    {
     "name": "stdout",
     "output_type": "stream",
     "text": [
      "['Monday', 'tuesday', 'Wednesday', 'Friday'] 4 <class 'list'> 2258395435520\n",
      "tuesday Friday\n"
     ]
    },
    {
     "ename": "TypeError",
     "evalue": "unsupported operand type(s) for +: 'int' and 'str'",
     "output_type": "error",
     "traceback": [
      "\u001b[1;31m---------------------------------------------------------------------------\u001b[0m",
      "\u001b[1;31mTypeError\u001b[0m                                 Traceback (most recent call last)",
      "Cell \u001b[1;32mIn[83], line 4\u001b[0m\n\u001b[0;32m      2\u001b[0m \u001b[38;5;28mprint\u001b[39m (list1, \u001b[38;5;28mlen\u001b[39m(list1), \u001b[38;5;28mtype\u001b[39m(list1), \u001b[38;5;28mid\u001b[39m(list1))\n\u001b[0;32m      3\u001b[0m \u001b[38;5;28mprint\u001b[39m (\u001b[38;5;28mmax\u001b[39m(list1), \u001b[38;5;28mmin\u001b[39m(list1))\n\u001b[1;32m----> 4\u001b[0m \u001b[38;5;28mprint\u001b[39m (\u001b[38;5;28;43msum\u001b[39;49m\u001b[43m(\u001b[49m\u001b[43mlist1\u001b[49m\u001b[43m)\u001b[49m, \u001b[38;5;28msum\u001b[39m(list1) \u001b[38;5;241m/\u001b[39m \u001b[38;5;28mlen\u001b[39m(list1))\n",
      "\u001b[1;31mTypeError\u001b[0m: unsupported operand type(s) for +: 'int' and 'str'"
     ]
    }
   ],
   "source": [
    "list1 = [\"Monday\", \"tuesday\", \"Wednesday\", \"Friday\"]\n",
    "print (list1, len(list1), type(list1), id(list1))\n",
    "print (max(list1), min(list1))\n",
    "print (sum(list1), sum(list1) / len(list1))"
   ]
  },
  {
   "cell_type": "code",
   "execution_count": 84,
   "id": "901b8b2a-6651-4be9-ba94-e9452f03d368",
   "metadata": {},
   "outputs": [
    {
     "name": "stdout",
     "output_type": "stream",
     "text": [
      "[100, 400.5, 300, True, 200, False, 900] 7 <class 'list'> 2258470253632\n",
      "900 False\n",
      "1901.5 271.64285714285717\n"
     ]
    }
   ],
   "source": [
    "list1 = [100, 400.5, 300, True, 200, False, 900]\n",
    "print (list1, len(list1), type(list1), id(list1))\n",
    "print (max(list1), min(list1))\n",
    "print (sum(list1), sum(list1) / len(list1))"
   ]
  },
  {
   "cell_type": "code",
   "execution_count": 86,
   "id": "6bb1e112-f2b7-4a09-bcaa-07c343a891ba",
   "metadata": {},
   "outputs": [
    {
     "name": "stdout",
     "output_type": "stream",
     "text": [
      "[100, 400.5, 300, True, 200, False, 900, 'Rajib'] 8 <class 'list'> 2258470252928\n"
     ]
    },
    {
     "ename": "TypeError",
     "evalue": "'>' not supported between instances of 'str' and 'int'",
     "output_type": "error",
     "traceback": [
      "\u001b[1;31m---------------------------------------------------------------------------\u001b[0m",
      "\u001b[1;31mTypeError\u001b[0m                                 Traceback (most recent call last)",
      "Cell \u001b[1;32mIn[86], line 3\u001b[0m\n\u001b[0;32m      1\u001b[0m list1 \u001b[38;5;241m=\u001b[39m [\u001b[38;5;241m100\u001b[39m, \u001b[38;5;241m400.5\u001b[39m, \u001b[38;5;241m300\u001b[39m, \u001b[38;5;28;01mTrue\u001b[39;00m, \u001b[38;5;241m200\u001b[39m, \u001b[38;5;28;01mFalse\u001b[39;00m, \u001b[38;5;241m900\u001b[39m, \u001b[38;5;124m\"\u001b[39m\u001b[38;5;124mRajib\u001b[39m\u001b[38;5;124m\"\u001b[39m]\n\u001b[0;32m      2\u001b[0m \u001b[38;5;28mprint\u001b[39m (list1, \u001b[38;5;28mlen\u001b[39m(list1), \u001b[38;5;28mtype\u001b[39m(list1), \u001b[38;5;28mid\u001b[39m(list1))\n\u001b[1;32m----> 3\u001b[0m \u001b[38;5;28mprint\u001b[39m (\u001b[38;5;28;43mmax\u001b[39;49m\u001b[43m(\u001b[49m\u001b[43mlist1\u001b[49m\u001b[43m)\u001b[49m, \u001b[38;5;28mmin\u001b[39m(list1))\n\u001b[0;32m      4\u001b[0m \u001b[38;5;28mprint\u001b[39m (\u001b[38;5;28msum\u001b[39m(list1), \u001b[38;5;28msum\u001b[39m(list1) \u001b[38;5;241m/\u001b[39m \u001b[38;5;28mlen\u001b[39m(list1))\n",
      "\u001b[1;31mTypeError\u001b[0m: '>' not supported between instances of 'str' and 'int'"
     ]
    }
   ],
   "source": [
    "list1 = [100, 400.5, 300, True, 200, False, 900, \"Rajib\"]\n",
    "print (list1, len(list1), type(list1), id(list1))\n",
    "print (max(list1), min(list1))\n",
    "print (sum(list1), sum(list1) / len(list1))"
   ]
  },
  {
   "cell_type": "code",
   "execution_count": 88,
   "id": "487d019a-ec74-410f-9430-c737979c7035",
   "metadata": {},
   "outputs": [
    {
     "name": "stdout",
     "output_type": "stream",
     "text": [
      "['Tuesday', 'Wednesday', 'Friday'] 3\n",
      "['Sunday', 'Saturday'] 2\n",
      "['Tuesday', 'Wednesday', 'Friday', 'Sunday', 'Saturday'] 5\n"
     ]
    }
   ],
   "source": [
    "list1 = [\"Tuesday\", \"Wednesday\", \"Friday\"]\n",
    "list2 = [\"Sunday\", \"Saturday\"]\n",
    "print (list1, len(list1))\n",
    "print (list2, len(list2))\n",
    "list3 = list1 + list2  # list concatenation\n",
    "print (list3, len(list3))"
   ]
  },
  {
   "cell_type": "code",
   "execution_count": 92,
   "id": "5a9a96de-fe31-4219-a0ca-2ebbff29967a",
   "metadata": {},
   "outputs": [
    {
     "name": "stdout",
     "output_type": "stream",
     "text": [
      "['Tuesday', 'Wednesday', 'Friday'] 3\n",
      "['Sunday', 'Saturday'] 2\n",
      "[['Tuesday', 'Wednesday', 'Friday'], ['Sunday', 'Saturday']] 2\n"
     ]
    }
   ],
   "source": [
    "list1 = [\"Tuesday\", \"Wednesday\", \"Friday\"]\n",
    "list2 = [\"Sunday\", \"Saturday\"]\n",
    "print (list1, len(list1))\n",
    "print (list2, len(list2))\n",
    "list3 = [list1, list2]  # list of lists\n",
    "print (list3, len(list3))"
   ]
  },
  {
   "cell_type": "code",
   "execution_count": 94,
   "id": "aadd2077-728b-4b3b-bf9a-38ed6ac8a410",
   "metadata": {},
   "outputs": [
    {
     "name": "stdout",
     "output_type": "stream",
     "text": [
      "['Tuesday', 'Wednesday', 'Friday'] 3\n",
      "['Sunday', 'Saturday'] 2\n",
      "['Tuesday', 'Wednesday', 'Friday', 'Sunday', 'Saturday'] 5\n",
      "['Sunday', 'Saturday'] 2\n"
     ]
    }
   ],
   "source": [
    "list1 = [\"Tuesday\", \"Wednesday\", \"Friday\"]\n",
    "list2 = [\"Sunday\", \"Saturday\"]\n",
    "print (list1, len(list1))\n",
    "print (list2, len(list2))\n",
    "list1.extend(list2)\n",
    "print (list1, len(list1))\n",
    "print (list2, len(list2))"
   ]
  },
  {
   "cell_type": "code",
   "execution_count": 106,
   "id": "ad887ee8-024b-4d5a-a38e-86ebb82a3240",
   "metadata": {},
   "outputs": [
    {
     "name": "stdout",
     "output_type": "stream",
     "text": [
      "['Tuesday', 'Wednesday', 'Friday', 'Sunday', 'Saturday'] 5 <class 'list'> 2258470348928\n",
      "Friday Friday Saturday Saturday\n",
      "['Tuesday', 'Wednesday', 'Friday'] ['Tuesday', 'Wednesday', 'Friday']\n",
      "['Friday', 'Sunday', 'Saturday'] ['Friday', 'Sunday', 'Saturday']\n",
      "['Wednesday', 'Friday', 'Sunday'] ['Wednesday', 'Friday', 'Sunday']\n",
      "['Saturday', 'Sunday', 'Friday', 'Wednesday', 'Tuesday']\n",
      "rid rid\n"
     ]
    }
   ],
   "source": [
    "# indexing and slicing\n",
    "# L2R ->  0          1            2         3         4  \n",
    "list1 = ['Tuesday', 'Wednesday', 'Friday', 'Sunday', 'Saturday']\n",
    "# R2L -> -5         -4           -3        -2        -1\n",
    "print (list1, len(list1), type(list1), id(list1))\n",
    "print (list1[2], list1[-3], list1[4], list1[-1])\n",
    "print (list1[:3], list1[:-2])\n",
    "print (list1[2:], list1[-3:])\n",
    "print (list1[1:4], list1[-4:-1])\n",
    "print (list1[::-1])\n",
    "print (list1[2][1:4], list1[-3][-5:-2])"
   ]
  },
  {
   "cell_type": "code",
   "execution_count": 117,
   "id": "d4cfde0b-966a-4d14-a242-250abea881e0",
   "metadata": {},
   "outputs": [
    {
     "name": "stdout",
     "output_type": "stream",
     "text": [
      "[['Tuesday', 'Wednesday', 'Friday'], ['Sunday', 'Saturday']] 2 <class 'list'> 2258422864960\n",
      "Wednesday ['Wednesday', 'Friday']\n",
      "tur tur dru\n"
     ]
    }
   ],
   "source": [
    "# L2R -> 0                                   1\n",
    "#          0          1            2           0         1\n",
    "list1 = [['Tuesday', 'Wednesday', 'Friday'], ['Sunday', 'Saturday']] # list of lists\n",
    "# R2L ->-2                                  -1 \n",
    "#         -3         -2           -1          -2        -1\n",
    "print (list1, len(list1), type(list1), id(list1))\n",
    "print (list1[0][1], list1[0][1:])\n",
    "print (list1[1][1][2:5], list1[-1][-1][-6:-3], list1[-1][-1][-3:-6:-1])"
   ]
  },
  {
   "cell_type": "code",
   "execution_count": 120,
   "id": "6010aaa0-99fb-4e77-880c-2f7fe48ae352",
   "metadata": {},
   "outputs": [
    {
     "name": "stdout",
     "output_type": "stream",
     "text": [
      "['apple', 'pineapple'] 2\n",
      "['apple', 'pineapple', 'guava'] 3\n",
      "['apple', 'pineapple', 'guava', 'lemon'] 4\n",
      "['apple', 'pineapple', 'guava', 'lemon', 'coconut'] 5\n"
     ]
    }
   ],
   "source": [
    "# insert operation on a list\n",
    "list1 = [\"apple\", \"pineapple\"]\n",
    "print (list1, len(list1))\n",
    "list1.append(\"guava\")\n",
    "print (list1, len(list1))\n",
    "list1.append(\"lemon\")\n",
    "print (list1, len(list1))\n",
    "list1.append(\"coconut\")\n",
    "print (list1, len(list1))"
   ]
  },
  {
   "cell_type": "code",
   "execution_count": 121,
   "id": "38f39912-c16e-48da-9cab-0f736b2b0aaa",
   "metadata": {},
   "outputs": [
    {
     "name": "stdout",
     "output_type": "stream",
     "text": [
      "['apple', 'pineapple'] 2\n",
      "['apple', 'guava', 'pineapple'] 3\n",
      "['lemon', 'apple', 'guava', 'pineapple'] 4\n",
      "['lemon', 'apple', 'coconut', 'guava', 'pineapple'] 5\n"
     ]
    }
   ],
   "source": [
    "# insert operation on a list\n",
    "list1 = [\"apple\", \"pineapple\"]\n",
    "print (list1, len(list1))\n",
    "list1.insert(1, \"guava\")\n",
    "print (list1, len(list1))\n",
    "list1.insert(0, \"lemon\")\n",
    "print (list1, len(list1))\n",
    "list1.insert(2, \"coconut\")\n",
    "print (list1, len(list1))"
   ]
  },
  {
   "cell_type": "code",
   "execution_count": 122,
   "id": "55259418-1a6d-4856-90f8-2bdc63c3d2d6",
   "metadata": {},
   "outputs": [
    {
     "name": "stdout",
     "output_type": "stream",
     "text": [
      "['lemon', 'apple', 'coconut', 'guava', 'pineapple'] 5\n",
      "['lemon', 'apple', 'coconut', 'lime', 'pineapple'] 5\n",
      "['lemon', 'cherry', 'coconut', 'lime', 'pineapple'] 5\n"
     ]
    }
   ],
   "source": [
    "# update operation on a list\n",
    "list1 = ['lemon', 'apple', 'coconut', 'guava', 'pineapple']\n",
    "print (list1, len(list1))\n",
    "list1[3] = \"lime\"\n",
    "print (list1, len(list1))\n",
    "list1[1] = \"cherry\"\n",
    "print (list1, len(list1))"
   ]
  },
  {
   "cell_type": "markdown",
   "id": "b002cf25-930a-4a58-8a57-03f1c2f4d211",
   "metadata": {},
   "source": [
    "### Class Assignment"
   ]
  },
  {
   "cell_type": "code",
   "execution_count": null,
   "id": "951423b2-3a53-4cab-af02-cd6e5f8e8667",
   "metadata": {},
   "outputs": [],
   "source": [
    "Input: mOHan daS kARaM chAnD gAndhi   (Any user given name with multiple parts)\n",
    "Output-1: M D K C Gandhi\n",
    "Output-2: M. D. K. C. Gandhi"
   ]
  },
  {
   "cell_type": "code",
   "execution_count": 133,
   "id": "12250074-65b2-48ce-be71-09f451258bd8",
   "metadata": {},
   "outputs": [
    {
     "name": "stdin",
     "output_type": "stream",
     "text": [
      "Please enter the name of the person:  mOHan daS kARaM chAnD gAndhi\n"
     ]
    },
    {
     "name": "stdout",
     "output_type": "stream",
     "text": [
      "M. D. K. C. Gandhi\n"
     ]
    }
   ],
   "source": [
    "myname = input(\"Please enter the name of the person: \")\n",
    "shortname = \"\"\n",
    "list1 = myname.split()\n",
    "# print (list1)\n",
    "for i in range(len(list1) - 1):\n",
    "    shortname += list1[i][0] + \". \"\n",
    "    # print (list1[i], shortname)\n",
    "shortname += list1[-1]\n",
    "shortname = shortname.title()\n",
    "print (shortname)"
   ]
  },
  {
   "cell_type": "code",
   "execution_count": 137,
   "id": "bc9b98fe-37da-469e-a808-ca5d8613676d",
   "metadata": {},
   "outputs": [
    {
     "name": "stdout",
     "output_type": "stream",
     "text": [
      "['lemon', 'apple', 'coconut', 'guava', 'pineapple'] 5\n",
      "['lemon', 'coconut', 'guava', 'pineapple'] 4\n",
      "['coconut', 'guava', 'pineapple'] 3\n"
     ]
    },
    {
     "ename": "ValueError",
     "evalue": "list.remove(x): x not in list",
     "output_type": "error",
     "traceback": [
      "\u001b[1;31m---------------------------------------------------------------------------\u001b[0m",
      "\u001b[1;31mValueError\u001b[0m                                Traceback (most recent call last)",
      "Cell \u001b[1;32mIn[137], line 8\u001b[0m\n\u001b[0;32m      6\u001b[0m list1\u001b[38;5;241m.\u001b[39mremove(\u001b[38;5;124m\"\u001b[39m\u001b[38;5;124mlemon\u001b[39m\u001b[38;5;124m\"\u001b[39m)\n\u001b[0;32m      7\u001b[0m \u001b[38;5;28mprint\u001b[39m (list1, \u001b[38;5;28mlen\u001b[39m(list1))\n\u001b[1;32m----> 8\u001b[0m \u001b[43mlist1\u001b[49m\u001b[38;5;241;43m.\u001b[39;49m\u001b[43mremove\u001b[49m\u001b[43m(\u001b[49m\u001b[38;5;124;43m\"\u001b[39;49m\u001b[38;5;124;43mgrape\u001b[39;49m\u001b[38;5;124;43m\"\u001b[39;49m\u001b[43m)\u001b[49m\n\u001b[0;32m      9\u001b[0m \u001b[38;5;28mprint\u001b[39m (list1, \u001b[38;5;28mlen\u001b[39m(list1))\n",
      "\u001b[1;31mValueError\u001b[0m: list.remove(x): x not in list"
     ]
    }
   ],
   "source": [
    "# delete operation on list\n",
    "list1 = ['lemon', 'apple', 'coconut', 'guava', 'pineapple']\n",
    "print (list1, len(list1))\n",
    "list1.remove(\"apple\")\n",
    "print (list1, len(list1))\n",
    "list1.remove(\"lemon\")\n",
    "print (list1, len(list1))\n",
    "list1.remove(\"grape\")\n",
    "print (list1, len(list1))"
   ]
  },
  {
   "cell_type": "code",
   "execution_count": 138,
   "id": "bb5f09f8-4497-4e33-ac10-5a3dc9742383",
   "metadata": {},
   "outputs": [
    {
     "name": "stdout",
     "output_type": "stream",
     "text": [
      "['lemon', 'apple', 'coconut', 'guava', 'pineapple'] 5\n",
      "pineapple\n",
      "['lemon', 'apple', 'coconut', 'guava'] 4\n",
      "guava\n",
      "['lemon', 'apple', 'coconut'] 3\n",
      "coconut\n",
      "['lemon', 'apple'] 2\n",
      "apple\n",
      "['lemon'] 1\n"
     ]
    }
   ],
   "source": [
    "list1 = ['lemon', 'apple', 'coconut', 'guava', 'pineapple']\n",
    "print (list1, len(list1))\n",
    "print (list1.pop())\n",
    "print (list1, len(list1))\n",
    "print (list1.pop())\n",
    "print (list1, len(list1))\n",
    "print (list1.pop())\n",
    "print (list1, len(list1))\n",
    "print (list1.pop())\n",
    "print (list1, len(list1))"
   ]
  },
  {
   "cell_type": "code",
   "execution_count": 139,
   "id": "8f3b3da6-89cc-4bc4-8a4c-c0b06bc7cc8f",
   "metadata": {},
   "outputs": [
    {
     "name": "stdout",
     "output_type": "stream",
     "text": [
      "['lemon', 'apple', 'coconut', 'guava', 'pineapple'] 5\n",
      "coconut\n",
      "['lemon', 'apple', 'guava', 'pineapple'] 4\n",
      "lemon\n",
      "['apple', 'guava', 'pineapple'] 3\n",
      "guava\n",
      "['apple', 'pineapple'] 2\n"
     ]
    }
   ],
   "source": [
    "list1 = ['lemon', 'apple', 'coconut', 'guava', 'pineapple']\n",
    "print (list1, len(list1))\n",
    "print (list1.pop(2))\n",
    "print (list1, len(list1))\n",
    "print (list1.pop(0))\n",
    "print (list1, len(list1))\n",
    "print (list1.pop(1))\n",
    "print (list1, len(list1))"
   ]
  },
  {
   "cell_type": "code",
   "execution_count": 140,
   "id": "298ee300-2342-441c-9386-d03c8a924002",
   "metadata": {},
   "outputs": [
    {
     "name": "stdout",
     "output_type": "stream",
     "text": [
      "['lemon', 'apple', 'coconut', 'guava', 'pineapple'] 5\n",
      "[] 0\n"
     ]
    }
   ],
   "source": [
    "list1 = ['lemon', 'apple', 'coconut', 'guava', 'pineapple']\n",
    "print (list1, len(list1))\n",
    "list1.clear()\n",
    "print (list1, len(list1))"
   ]
  },
  {
   "cell_type": "code",
   "execution_count": 141,
   "id": "be0938ed-9313-47d2-b630-c6ea917c7d57",
   "metadata": {},
   "outputs": [
    {
     "name": "stdout",
     "output_type": "stream",
     "text": [
      "['lemon', 'apple', 'coconut', 'guava', 'pineapple'] 5\n",
      "['lemon', 'apple', 'guava', 'pineapple'] 4\n",
      "['apple', 'guava', 'pineapple'] 3\n"
     ]
    },
    {
     "ename": "IndexError",
     "evalue": "list assignment index out of range",
     "output_type": "error",
     "traceback": [
      "\u001b[1;31m---------------------------------------------------------------------------\u001b[0m",
      "\u001b[1;31mIndexError\u001b[0m                                Traceback (most recent call last)",
      "Cell \u001b[1;32mIn[141], line 7\u001b[0m\n\u001b[0;32m      5\u001b[0m \u001b[38;5;28;01mdel\u001b[39;00m list1[\u001b[38;5;241m0\u001b[39m]\n\u001b[0;32m      6\u001b[0m \u001b[38;5;28mprint\u001b[39m (list1, \u001b[38;5;28mlen\u001b[39m(list1))\n\u001b[1;32m----> 7\u001b[0m \u001b[38;5;28;01mdel\u001b[39;00m list1[\u001b[38;5;241m3\u001b[39m]\n\u001b[0;32m      8\u001b[0m \u001b[38;5;28mprint\u001b[39m (list1, \u001b[38;5;28mlen\u001b[39m(list1))\n",
      "\u001b[1;31mIndexError\u001b[0m: list assignment index out of range"
     ]
    }
   ],
   "source": [
    "list1 = ['lemon', 'apple', 'coconut', 'guava', 'pineapple']\n",
    "print (list1, len(list1))\n",
    "del list1[2]\n",
    "print (list1, len(list1))\n",
    "del list1[0]\n",
    "print (list1, len(list1))\n",
    "del list1[3]\n",
    "print (list1, len(list1))"
   ]
  },
  {
   "cell_type": "code",
   "execution_count": 142,
   "id": "9bc3c11f-0074-4a98-98a4-7f4f71f131c8",
   "metadata": {},
   "outputs": [
    {
     "name": "stdout",
     "output_type": "stream",
     "text": [
      "['lemon', 'apple', 'coconut', 'guava', 'pineapple'] 5\n"
     ]
    },
    {
     "ename": "NameError",
     "evalue": "name 'list1' is not defined",
     "output_type": "error",
     "traceback": [
      "\u001b[1;31m---------------------------------------------------------------------------\u001b[0m",
      "\u001b[1;31mNameError\u001b[0m                                 Traceback (most recent call last)",
      "Cell \u001b[1;32mIn[142], line 4\u001b[0m\n\u001b[0;32m      2\u001b[0m \u001b[38;5;28mprint\u001b[39m (list1, \u001b[38;5;28mlen\u001b[39m(list1))\n\u001b[0;32m      3\u001b[0m \u001b[38;5;28;01mdel\u001b[39;00m list1\n\u001b[1;32m----> 4\u001b[0m \u001b[38;5;28mprint\u001b[39m (\u001b[43mlist1\u001b[49m, \u001b[38;5;28mlen\u001b[39m(list1))\n",
      "\u001b[1;31mNameError\u001b[0m: name 'list1' is not defined"
     ]
    }
   ],
   "source": [
    "list1 = ['lemon', 'apple', 'coconut', 'guava', 'pineapple']\n",
    "print (list1, len(list1))\n",
    "del list1\n",
    "print (list1, len(list1))"
   ]
  },
  {
   "cell_type": "code",
   "execution_count": 145,
   "id": "f0a37b2e-2352-4141-beaa-2828d7189042",
   "metadata": {},
   "outputs": [
    {
     "name": "stdout",
     "output_type": "stream",
     "text": [
      "['lemon', 'apple', 'coconut', 'guava', 'pineapple'] 5\n",
      "['pineapple', 'guava', 'coconut', 'apple', 'lemon'] 5\n",
      "['lemon', 'apple', 'coconut', 'guava', 'pineapple'] 5\n"
     ]
    }
   ],
   "source": [
    "# reverse of a list\n",
    "list1 = ['lemon', 'apple', 'coconut', 'guava', 'pineapple']\n",
    "print (list1, len(list1))\n",
    "list1.reverse()\n",
    "print (list1, len(list1))\n",
    "list1 = list1[::-1]\n",
    "print (list1, len(list1))"
   ]
  },
  {
   "cell_type": "code",
   "execution_count": 151,
   "id": "5143281f-8ebd-479d-b9c0-f81faf20926b",
   "metadata": {},
   "outputs": [
    {
     "name": "stdout",
     "output_type": "stream",
     "text": [
      "['lemon', 'apple', 'coconut', 'guava', 'pineapple'] 5\n",
      "['apple', 'coconut', 'guava', 'lemon', 'pineapple'] 5\n",
      "['pineapple', 'lemon', 'guava', 'coconut', 'apple'] 5\n"
     ]
    }
   ],
   "source": [
    "# sorting of a list content\n",
    "list1 = ['lemon', 'apple', 'coconut', 'guava', 'pineapple']\n",
    "print (list1, len(list1))\n",
    "list1.sort()\n",
    "print (list1, len(list1))\n",
    "list1.reverse()\n",
    "print (list1, len(list1))"
   ]
  },
  {
   "cell_type": "code",
   "execution_count": 153,
   "id": "db00dfaf-6c19-4868-b29c-94b110f9b8c2",
   "metadata": {},
   "outputs": [
    {
     "name": "stdout",
     "output_type": "stream",
     "text": [
      "['lemon', 'apple', '100', 'coconut', 'guava', 'pineapple'] 6\n",
      "['pineapple', 'lemon', 'guava', 'coconut', 'apple', '100'] 6\n"
     ]
    }
   ],
   "source": [
    "list1 = ['lemon', 'apple', \"100\", 'coconut', 'guava', 'pineapple']\n",
    "print (list1, len(list1))\n",
    "list1.sort(reverse=True)\n",
    "print (list1, len(list1))"
   ]
  },
  {
   "cell_type": "code",
   "execution_count": 155,
   "id": "088a7359-00d8-4aab-8644-a6dc8c79c9fb",
   "metadata": {},
   "outputs": [
    {
     "name": "stdout",
     "output_type": "stream",
     "text": [
      "['lemon', 'apple', '100', 'coconut', 'guava', 'pineapple'] 6\n",
      "['100', 'apple', 'coconut', 'guava', 'lemon', 'pineapple'] 6\n",
      "['pineapple', 'lemon', 'guava', 'coconut', 'apple', '100'] 6\n"
     ]
    }
   ],
   "source": [
    "list1 = ['lemon', 'apple', \"100\", 'coconut', 'guava', 'pineapple']\n",
    "print (list1, len(list1))\n",
    "list1 = sorted(list1)\n",
    "print (list1, len(list1))\n",
    "list1 = sorted(list1, reverse=True)\n",
    "print (list1, len(list1))"
   ]
  },
  {
   "cell_type": "code",
   "execution_count": 156,
   "id": "77f4cf33-3ce0-442d-abd8-6f886c2a369f",
   "metadata": {},
   "outputs": [
    {
     "name": "stdout",
     "output_type": "stream",
     "text": [
      "[True, False, True, False, False] True False\n",
      "[False, False, False, False, False] False False\n",
      "[True, True, True, True, True] True True\n"
     ]
    }
   ],
   "source": [
    "list1 = [True, False, True, False, False]\n",
    "print (list1, any(list1), all(list1))\n",
    "list1 = [False, False, False, False, False]\n",
    "print (list1, any(list1), all(list1))\n",
    "list1 = [True, True, True, True, True]\n",
    "print (list1, any(list1), all(list1))"
   ]
  },
  {
   "cell_type": "code",
   "execution_count": 159,
   "id": "dbc138d4-700e-481a-844c-093bf88e6c78",
   "metadata": {},
   "outputs": [
    {
     "name": "stdout",
     "output_type": "stream",
     "text": [
      "['lemon', 'apple', 'coconut', 'pineapple', 'lemon', 'apple', 'coconut'] 7\n",
      "2\n",
      "2\n",
      "0\n"
     ]
    }
   ],
   "source": [
    "list1 = ['lemon', 'apple', 'coconut', 'pineapple', 'lemon', 'apple', 'coconut']\n",
    "print (list1, len(list1))\n",
    "print (list1.count('apple'))\n",
    "print (list1.count('lemon'))\n",
    "print (list1.count('cherry'))"
   ]
  },
  {
   "cell_type": "code",
   "execution_count": 163,
   "id": "1bd8c24e-4aa9-4528-a541-73d4844521a1",
   "metadata": {},
   "outputs": [
    {
     "name": "stdout",
     "output_type": "stream",
     "text": [
      "['lemon', 'apple', '100', 'coconut', 'guava', 'pineapple'] 6\n",
      "1\n",
      "3\n"
     ]
    },
    {
     "ename": "ValueError",
     "evalue": "'cherry' is not in list",
     "output_type": "error",
     "traceback": [
      "\u001b[1;31m---------------------------------------------------------------------------\u001b[0m",
      "\u001b[1;31mValueError\u001b[0m                                Traceback (most recent call last)",
      "Cell \u001b[1;32mIn[163], line 5\u001b[0m\n\u001b[0;32m      3\u001b[0m \u001b[38;5;28mprint\u001b[39m (list1\u001b[38;5;241m.\u001b[39mindex(\u001b[38;5;124m'\u001b[39m\u001b[38;5;124mapple\u001b[39m\u001b[38;5;124m'\u001b[39m))\n\u001b[0;32m      4\u001b[0m \u001b[38;5;28mprint\u001b[39m (list1\u001b[38;5;241m.\u001b[39mindex(\u001b[38;5;124m'\u001b[39m\u001b[38;5;124mcoconut\u001b[39m\u001b[38;5;124m'\u001b[39m))\n\u001b[1;32m----> 5\u001b[0m \u001b[38;5;28mprint\u001b[39m (\u001b[43mlist1\u001b[49m\u001b[38;5;241;43m.\u001b[39;49m\u001b[43mindex\u001b[49m\u001b[43m(\u001b[49m\u001b[38;5;124;43m'\u001b[39;49m\u001b[38;5;124;43mcherry\u001b[39;49m\u001b[38;5;124;43m'\u001b[39;49m\u001b[43m)\u001b[49m)\n",
      "\u001b[1;31mValueError\u001b[0m: 'cherry' is not in list"
     ]
    }
   ],
   "source": [
    "list1 = ['lemon', 'apple', \"100\", 'coconut', 'guava', 'pineapple']\n",
    "print (list1, len(list1))\n",
    "print (list1.index('apple'))\n",
    "print (list1.index('coconut'))\n",
    "print (list1.index('cherry'))"
   ]
  },
  {
   "cell_type": "code",
   "execution_count": 165,
   "id": "991b4a49-408f-4e7f-9976-b41278dbcc8c",
   "metadata": {},
   "outputs": [
    {
     "name": "stdout",
     "output_type": "stream",
     "text": [
      "[100, 200, 300, 400, 500] 5 <class 'list'> 2258466013120\n",
      "[100, 200, 300, 400, 500] 5 <class 'list'> 2258466013120\n",
      "[1111, 2222, 300, 400, 500] 5 <class 'list'> 2258466013120\n",
      "[1111, 2222, 300, 400, 500] 5 <class 'list'> 2258466013120\n"
     ]
    }
   ],
   "source": [
    "list1 = [100, 200, 300, 400, 500]\n",
    "print (list1, len(list1), type(list1), id(list1))\n",
    "list2 = list1\n",
    "print (list2, len(list2), type(list2), id(list2))\n",
    "list1[0] = 1111\n",
    "list2[1] = 2222\n",
    "print (list1, len(list1), type(list1), id(list1))\n",
    "print (list2, len(list2), type(list2), id(list2))"
   ]
  },
  {
   "cell_type": "code",
   "execution_count": 167,
   "id": "5545db7c-6678-4f69-83d9-7fb4b85b233a",
   "metadata": {},
   "outputs": [
    {
     "name": "stdout",
     "output_type": "stream",
     "text": [
      "[100, 200, 300, 400, 500] 5 <class 'list'> 2258466004224\n",
      "[100, 200, 300, 400, 500] 5 <class 'list'> 2258465161024\n",
      "[1111, 200, 300, 400, 500] 5 <class 'list'> 2258466004224\n",
      "[100, 2222, 300, 400, 500] 5 <class 'list'> 2258465161024\n"
     ]
    }
   ],
   "source": [
    "list1 = [100, 200, 300, 400, 500]\n",
    "print (list1, len(list1), type(list1), id(list1))\n",
    "list2 = list1.copy()\n",
    "print (list2, len(list2), type(list2), id(list2))\n",
    "list1[0] = 1111\n",
    "list2[1] = 2222\n",
    "print (list1, len(list1), type(list1), id(list1))\n",
    "print (list2, len(list2), type(list2), id(list2))"
   ]
  },
  {
   "cell_type": "code",
   "execution_count": 168,
   "id": "7a6fc422-5bd9-476c-99da-0ed08ddec2a1",
   "metadata": {},
   "outputs": [
    {
     "name": "stdout",
     "output_type": "stream",
     "text": [
      "[100, 200, 300, 400, 500] 5 <class 'list'> 2258466013120\n",
      "[100, 200, 300, 400, 500] 5 <class 'list'> 2258465161024\n",
      "[1111, 200, 300, 400, 500] 5 <class 'list'> 2258466013120\n",
      "[100, 2222, 300, 400, 500] 5 <class 'list'> 2258465161024\n"
     ]
    }
   ],
   "source": [
    "list1 = [100, 200, 300, 400, 500]\n",
    "print (list1, len(list1), type(list1), id(list1))\n",
    "list2[:] = list1\n",
    "print (list2, len(list2), type(list2), id(list2))\n",
    "list1[0] = 1111\n",
    "list2[1] = 2222\n",
    "print (list1, len(list1), type(list1), id(list1))\n",
    "print (list2, len(list2), type(list2), id(list2))"
   ]
  },
  {
   "cell_type": "markdown",
   "id": "a4749ac7-cfb6-4fab-a482-590608d58e77",
   "metadata": {},
   "source": [
    "### **Tuple Processing**"
   ]
  },
  {
   "cell_type": "code",
   "execution_count": 80,
   "id": "9e450ea6-ebcc-48dd-b8df-45d87f73321f",
   "metadata": {},
   "outputs": [
    {
     "name": "stdout",
     "output_type": "stream",
     "text": [
      "(100, 400, 300, 200, 900) 5 <class 'tuple'> 2258465281408\n",
      "900 100\n",
      "1900 380.0\n"
     ]
    }
   ],
   "source": [
    "tuple1 = (100, 400, 300, 200, 900)\n",
    "print (tuple1, len(tuple1), type(tuple1), id(tuple1))\n",
    "print (max(tuple1), min(tuple1))\n",
    "print (sum(tuple1), sum(tuple1) / len(tuple1))"
   ]
  },
  {
   "cell_type": "code",
   "execution_count": 82,
   "id": "0e5b5496-e781-4c57-9e91-16affc66cba7",
   "metadata": {},
   "outputs": [
    {
     "name": "stdout",
     "output_type": "stream",
     "text": [
      "('Monday', 'Tuesday', 'Wednesday', 'Friday') 4 <class 'tuple'> 2258395323088\n",
      "Wednesday Friday\n"
     ]
    },
    {
     "ename": "TypeError",
     "evalue": "unsupported operand type(s) for +: 'int' and 'str'",
     "output_type": "error",
     "traceback": [
      "\u001b[1;31m---------------------------------------------------------------------------\u001b[0m",
      "\u001b[1;31mTypeError\u001b[0m                                 Traceback (most recent call last)",
      "Cell \u001b[1;32mIn[82], line 4\u001b[0m\n\u001b[0;32m      2\u001b[0m \u001b[38;5;28mprint\u001b[39m (tuple1, \u001b[38;5;28mlen\u001b[39m(tuple1), \u001b[38;5;28mtype\u001b[39m(tuple1), \u001b[38;5;28mid\u001b[39m(tuple1))\n\u001b[0;32m      3\u001b[0m \u001b[38;5;28mprint\u001b[39m (\u001b[38;5;28mmax\u001b[39m(tuple1), \u001b[38;5;28mmin\u001b[39m(tuple1))\n\u001b[1;32m----> 4\u001b[0m \u001b[38;5;28mprint\u001b[39m (\u001b[38;5;28;43msum\u001b[39;49m\u001b[43m(\u001b[49m\u001b[43mtuple1\u001b[49m\u001b[43m)\u001b[49m, \u001b[38;5;28msum\u001b[39m(tuple1) \u001b[38;5;241m/\u001b[39m \u001b[38;5;28mlen\u001b[39m(tuple1))\n",
      "\u001b[1;31mTypeError\u001b[0m: unsupported operand type(s) for +: 'int' and 'str'"
     ]
    }
   ],
   "source": [
    "tuple1 = (\"Monday\", \"Tuesday\", \"Wednesday\", \"Friday\")\n",
    "print (tuple1, len(tuple1), type(tuple1), id(tuple1))\n",
    "print (max(tuple1), min(tuple1))\n",
    "print (sum(tuple1), sum(tuple1) / len(tuple1))"
   ]
  },
  {
   "cell_type": "code",
   "execution_count": 85,
   "id": "4a0df8a2-5232-440b-904f-00117c2b1b6f",
   "metadata": {},
   "outputs": [
    {
     "name": "stdout",
     "output_type": "stream",
     "text": [
      "(100, 400.5, 300, True, 200, False, 900) 7 <class 'tuple'> 2258470293216\n",
      "900 False\n",
      "1901.5 271.64285714285717\n"
     ]
    }
   ],
   "source": [
    "tuple1 = (100, 400.5, 300, True, 200, False, 900)\n",
    "print (tuple1, len(tuple1), type(tuple1), id(tuple1))\n",
    "print (max(tuple1), min(tuple1))\n",
    "print (sum(tuple1), sum(tuple1) / len(tuple1))"
   ]
  },
  {
   "cell_type": "code",
   "execution_count": 87,
   "id": "177903cf-b53a-4451-bc59-426d54205cf4",
   "metadata": {},
   "outputs": [
    {
     "name": "stdout",
     "output_type": "stream",
     "text": [
      "(100, 400.5, 300, True, 200, False, 900, 'Rajib') 8 <class 'tuple'> 2258395181632\n"
     ]
    },
    {
     "ename": "TypeError",
     "evalue": "'>' not supported between instances of 'str' and 'int'",
     "output_type": "error",
     "traceback": [
      "\u001b[1;31m---------------------------------------------------------------------------\u001b[0m",
      "\u001b[1;31mTypeError\u001b[0m                                 Traceback (most recent call last)",
      "Cell \u001b[1;32mIn[87], line 3\u001b[0m\n\u001b[0;32m      1\u001b[0m tuple1 \u001b[38;5;241m=\u001b[39m (\u001b[38;5;241m100\u001b[39m, \u001b[38;5;241m400.5\u001b[39m, \u001b[38;5;241m300\u001b[39m, \u001b[38;5;28;01mTrue\u001b[39;00m, \u001b[38;5;241m200\u001b[39m, \u001b[38;5;28;01mFalse\u001b[39;00m, \u001b[38;5;241m900\u001b[39m, \u001b[38;5;124m\"\u001b[39m\u001b[38;5;124mRajib\u001b[39m\u001b[38;5;124m\"\u001b[39m)\n\u001b[0;32m      2\u001b[0m \u001b[38;5;28mprint\u001b[39m (tuple1, \u001b[38;5;28mlen\u001b[39m(tuple1), \u001b[38;5;28mtype\u001b[39m(tuple1), \u001b[38;5;28mid\u001b[39m(tuple1))\n\u001b[1;32m----> 3\u001b[0m \u001b[38;5;28mprint\u001b[39m (\u001b[38;5;28;43mmax\u001b[39;49m\u001b[43m(\u001b[49m\u001b[43mtuple1\u001b[49m\u001b[43m)\u001b[49m, \u001b[38;5;28mmin\u001b[39m(tuple1))\n\u001b[0;32m      4\u001b[0m \u001b[38;5;28mprint\u001b[39m (\u001b[38;5;28msum\u001b[39m(tuple1), \u001b[38;5;28msum\u001b[39m(tuple1) \u001b[38;5;241m/\u001b[39m \u001b[38;5;28mlen\u001b[39m(tuple1))\n",
      "\u001b[1;31mTypeError\u001b[0m: '>' not supported between instances of 'str' and 'int'"
     ]
    }
   ],
   "source": [
    "tuple1 = (100, 400.5, 300, True, 200, False, 900, \"Rajib\")\n",
    "print (tuple1, len(tuple1), type(tuple1), id(tuple1))\n",
    "print (max(tuple1), min(tuple1))\n",
    "print (sum(tuple1), sum(tuple1) / len(tuple1))"
   ]
  },
  {
   "cell_type": "code",
   "execution_count": 91,
   "id": "880d665b-1fe4-4c40-86e1-26efea3e1cc4",
   "metadata": {},
   "outputs": [
    {
     "name": "stdout",
     "output_type": "stream",
     "text": [
      "('Tuesday', 'Wednesday', 'Friday') 3 <class 'tuple'>\n",
      "('Sunday', 'Saturday') 2 <class 'tuple'>\n",
      "('Tuesday', 'Wednesday', 'Friday', 'Sunday', 'Saturday') 5\n"
     ]
    }
   ],
   "source": [
    "tuple1 = (\"Tuesday\", \"Wednesday\", \"Friday\")\n",
    "tuple2 = (\"Sunday\", \"Saturday\")\n",
    "print (tuple1, len(tuple1), type(tuple1))\n",
    "print (tuple2, len(tuple2), type(tuple2))\n",
    "tuple3 = tuple1 + tuple2  # tuple concatenation\n",
    "print (tuple3, len(tuple3))"
   ]
  },
  {
   "cell_type": "code",
   "execution_count": 93,
   "id": "d6584ce5-7cf9-4629-841a-17d77cb9e42e",
   "metadata": {},
   "outputs": [
    {
     "name": "stdout",
     "output_type": "stream",
     "text": [
      "('Tuesday', 'Wednesday', 'Friday') 3 <class 'tuple'>\n",
      "('Sunday', 'Saturday') 2 <class 'tuple'>\n",
      "(('Tuesday', 'Wednesday', 'Friday'), ('Sunday', 'Saturday')) 2\n"
     ]
    }
   ],
   "source": [
    "tuple1 = (\"Tuesday\", \"Wednesday\", \"Friday\")\n",
    "tuple2 = (\"Sunday\", \"Saturday\")\n",
    "print (tuple1, len(tuple1), type(tuple1))\n",
    "print (tuple2, len(tuple2), type(tuple2))\n",
    "tuple3 = (tuple1, tuple2)  # tuple of tuples\n",
    "print (tuple3, len(tuple3))"
   ]
  },
  {
   "cell_type": "code",
   "execution_count": 107,
   "id": "926802fe-9db4-415d-a589-6d61d5748cc3",
   "metadata": {},
   "outputs": [
    {
     "name": "stdout",
     "output_type": "stream",
     "text": [
      "('Tuesday', 'Wednesday', 'Friday', 'Sunday', 'Saturday') 5 <class 'tuple'> 2258470438528\n",
      "Friday Friday Saturday Saturday\n",
      "('Tuesday', 'Wednesday', 'Friday') ('Tuesday', 'Wednesday', 'Friday')\n",
      "('Friday', 'Sunday', 'Saturday') ('Friday', 'Sunday', 'Saturday')\n",
      "('Wednesday', 'Friday', 'Sunday') ('Wednesday', 'Friday', 'Sunday')\n",
      "('Saturday', 'Sunday', 'Friday', 'Wednesday', 'Tuesday')\n",
      "rid rid\n"
     ]
    }
   ],
   "source": [
    "# indexing and slicing\n",
    "# L2R ->  0          1            2         3         4  \n",
    "tuple1 = ('Tuesday', 'Wednesday', 'Friday', 'Sunday', 'Saturday')\n",
    "# R2L -> -5         -4           -3        -2        -1\n",
    "print (tuple1, len(tuple1), type(tuple1), id(tuple1))\n",
    "print (tuple1[2], tuple1[-3], tuple1[4], tuple1[-1])\n",
    "print (tuple1[:3], tuple1[:-2])\n",
    "print (tuple1[2:], tuple1[-3:])\n",
    "print (tuple1[1:4], tuple1[-4:-1])\n",
    "print (tuple1[::-1])\n",
    "print (tuple1[2][1:4], tuple1[-3][-5:-2])"
   ]
  },
  {
   "cell_type": "code",
   "execution_count": 119,
   "id": "374954bd-20aa-4fa1-8555-27ac4eae8a5b",
   "metadata": {},
   "outputs": [
    {
     "name": "stdout",
     "output_type": "stream",
     "text": [
      "(('Tuesday', 'Wednesday', 'Friday'), ('Sunday', 'Saturday')) 2 <class 'tuple'> 2258395381248\n",
      "Wednesday ('Wednesday', 'Friday')\n",
      "tur tur dru\n"
     ]
    }
   ],
   "source": [
    "# L2R -> 0                                   1\n",
    "#          0          1            2           0         1\n",
    "tuple1 = (('Tuesday', 'Wednesday', 'Friday'), ('Sunday', 'Saturday')) # list of lists\n",
    "# R2L ->-2                                  -1 \n",
    "#         -3         -2           -1          -2        -1\n",
    "print (tuple1, len(tuple1), type(tuple1), id(tuple1))\n",
    "print (tuple1[0][1], tuple1[0][1:])\n",
    "print (tuple1[1][1][2:5], tuple1[-1][-1][-6:-3], tuple1[-1][-1][-3:-6:-1])"
   ]
  },
  {
   "cell_type": "code",
   "execution_count": 124,
   "id": "1161a57a-c80b-4ef1-b71d-a80df6f82758",
   "metadata": {},
   "outputs": [
    {
     "name": "stdout",
     "output_type": "stream",
     "text": [
      "('lemon', 'apple', 'coconut', 'guava', 'pineapple') 5 2258464989536\n",
      "['lemon', 'apple', 'coconut', 'guava', 'pineapple'] 5 2258465496960\n",
      "['lemon', 'apple', 'coconut', 'Lime', 'pineapple'] 5 2258465496960\n",
      "('lemon', 'apple', 'coconut', 'Lime', 'pineapple') 5 2258470402416\n"
     ]
    }
   ],
   "source": [
    "# update operation on a tuple\n",
    "tuple1 = ('lemon', 'apple', 'coconut', 'guava', 'pineapple')\n",
    "print (tuple1, len(tuple1), id(tuple1))\n",
    "# tuple1[3] = \"lime\"    # !!! ERROR...\n",
    "list1 = list(tuple1)\n",
    "print (list1, len(list1), id(list1))\n",
    "list1[3] = \"Lime\"\n",
    "print (list1, len(list1), id(list1))\n",
    "tuple1 = tuple(list1)\n",
    "print (tuple1, len(tuple1), id(tuple1))"
   ]
  },
  {
   "cell_type": "code",
   "execution_count": 157,
   "id": "7bb59e7a-5522-4609-af32-7d55407d8ff8",
   "metadata": {},
   "outputs": [
    {
     "name": "stdout",
     "output_type": "stream",
     "text": [
      "(True, False, True, False, False) True False\n",
      "(False, False, False, False, False) False False\n",
      "(True, True, True, True, True) True True\n"
     ]
    }
   ],
   "source": [
    "tuple1 = (True, False, True, False, False)\n",
    "print (tuple1, any(tuple1), all(tuple1))\n",
    "tuple1 = (False, False, False, False, False)\n",
    "print (tuple1, any(tuple1), all(tuple1))\n",
    "tuple1 = (True, True, True, True, True)\n",
    "print (tuple1, any(tuple1), all(tuple1))"
   ]
  },
  {
   "cell_type": "code",
   "execution_count": 162,
   "id": "ea9a7357-5d8d-4c65-889f-cb8301fd4af9",
   "metadata": {},
   "outputs": [
    {
     "name": "stdout",
     "output_type": "stream",
     "text": [
      "('lemon', 'apple', 'coconut', 'pineapple', 'lemon', 'apple', 'coconut') 7\n",
      "2\n",
      "2\n",
      "0\n"
     ]
    }
   ],
   "source": [
    "tuple1 = ('lemon', 'apple', 'coconut', 'pineapple', 'lemon', 'apple', 'coconut')\n",
    "print (tuple1, len(list1))\n",
    "print (tuple1.count('apple'))\n",
    "print (tuple1.count('lemon'))\n",
    "print (tuple1.count('cherry'))"
   ]
  },
  {
   "cell_type": "code",
   "execution_count": 164,
   "id": "8a2f998a-ff8d-4c31-8a4a-9e5d5eeae538",
   "metadata": {},
   "outputs": [
    {
     "name": "stdout",
     "output_type": "stream",
     "text": [
      "('lemon', 'apple', '100', 'coconut', 'guava', 'pineapple') 6\n",
      "1\n",
      "3\n"
     ]
    },
    {
     "ename": "ValueError",
     "evalue": "tuple.index(x): x not in tuple",
     "output_type": "error",
     "traceback": [
      "\u001b[1;31m---------------------------------------------------------------------------\u001b[0m",
      "\u001b[1;31mValueError\u001b[0m                                Traceback (most recent call last)",
      "Cell \u001b[1;32mIn[164], line 5\u001b[0m\n\u001b[0;32m      3\u001b[0m \u001b[38;5;28mprint\u001b[39m (tuple1\u001b[38;5;241m.\u001b[39mindex(\u001b[38;5;124m'\u001b[39m\u001b[38;5;124mapple\u001b[39m\u001b[38;5;124m'\u001b[39m))\n\u001b[0;32m      4\u001b[0m \u001b[38;5;28mprint\u001b[39m (tuple1\u001b[38;5;241m.\u001b[39mindex(\u001b[38;5;124m'\u001b[39m\u001b[38;5;124mcoconut\u001b[39m\u001b[38;5;124m'\u001b[39m))\n\u001b[1;32m----> 5\u001b[0m \u001b[38;5;28mprint\u001b[39m (\u001b[43mtuple1\u001b[49m\u001b[38;5;241;43m.\u001b[39;49m\u001b[43mindex\u001b[49m\u001b[43m(\u001b[49m\u001b[38;5;124;43m'\u001b[39;49m\u001b[38;5;124;43mcherry\u001b[39;49m\u001b[38;5;124;43m'\u001b[39;49m\u001b[43m)\u001b[49m)\n",
      "\u001b[1;31mValueError\u001b[0m: tuple.index(x): x not in tuple"
     ]
    }
   ],
   "source": [
    "tuple1 = ('lemon', 'apple', \"100\", 'coconut', 'guava', 'pineapple')\n",
    "print (tuple1, len(tuple1))\n",
    "print (tuple1.index('apple'))\n",
    "print (tuple1.index('coconut'))\n",
    "print (tuple1.index('cherry'))"
   ]
  },
  {
   "cell_type": "markdown",
   "id": "b9c97523-9cb1-4a56-99fa-baa750acd56c",
   "metadata": {},
   "source": [
    "### **Dictionary Processing**"
   ]
  },
  {
   "cell_type": "code",
   "execution_count": 172,
   "id": "4ee83e2b-ac2f-4d34-b032-dfd63c860871",
   "metadata": {},
   "outputs": [
    {
     "name": "stdout",
     "output_type": "stream",
     "text": [
      "{'mango': 320, 'pineapple': 250, 'apple': 320, 'orange': 650} 4 <class 'dict'> 2258466009344\n",
      "dict_keys(['mango', 'pineapple', 'apple', 'orange'])\n",
      "dict_values([320, 250, 320, 650])\n",
      "dict_items([('mango', 320), ('pineapple', 250), ('apple', 320), ('orange', 650)])\n"
     ]
    }
   ],
   "source": [
    "# dictionary is a collection containing key and value pairs\n",
    "dict1 = {\"mango\":320, \"pineapple\":250, \"apple\":320, \"orange\":650}\n",
    "print (dict1, len(dict1), type(dict1), id(dict1))\n",
    "print (dict1.keys())  # returns a list of keys\n",
    "print (dict1.values())  # returns a list of values\n",
    "print (dict1.items())  # returns a list of tuples"
   ]
  },
  {
   "cell_type": "code",
   "execution_count": 175,
   "id": "44a838e1-30c7-40a2-9380-6b1fbac0c977",
   "metadata": {},
   "outputs": [
    {
     "name": "stdout",
     "output_type": "stream",
     "text": [
      "{'mango': 320, 'pineapple': 250, 'apple': 900, 'orange': 650} 4 <class 'dict'> 2258466002368\n",
      "dict_keys(['mango', 'pineapple', 'apple', 'orange'])\n",
      "dict_values([320, 250, 900, 650])\n",
      "dict_items([('mango', 320), ('pineapple', 250), ('apple', 900), ('orange', 650)])\n"
     ]
    }
   ],
   "source": [
    "# dictionary is a collection containing key and value pairs\n",
    "dict1 = {\"mango\":320, \"pineapple\":250, \"apple\":320, \"orange\":650, \"apple\":900}\n",
    "print (dict1, len(dict1), type(dict1), id(dict1))\n",
    "print (dict1.keys())  # returns a list of keys\n",
    "print (dict1.values())  # returns a list of values\n",
    "print (dict1.items())  # returns a list of tuples"
   ]
  },
  {
   "cell_type": "code",
   "execution_count": 182,
   "id": "fec9439a-d5f7-4395-8083-52d17e480f7e",
   "metadata": {},
   "outputs": [
    {
     "name": "stdout",
     "output_type": "stream",
     "text": [
      "{'mango': 320, 'pineapple': 250, 'apple': 320, 'orange': 650} 4\n",
      "250\n",
      "320\n",
      "None\n",
      "Not Available\n",
      "320\n"
     ]
    }
   ],
   "source": [
    "dict1 = {\"mango\":320, \"pineapple\":250, \"apple\":320, \"orange\":650}\n",
    "print (dict1, len(dict1))\n",
    "print (dict1.get(\"pineapple\"))\n",
    "print (dict1.get(\"apple\"))\n",
    "print (dict1.get(\"coconut\"))\n",
    "print (dict1.get(\"coconut\", \"Not Available\"))\n",
    "print (dict1.get(\"apple\", \"Not Available\"))"
   ]
  },
  {
   "cell_type": "code",
   "execution_count": 189,
   "id": "0052662a-04d7-49ca-b64d-2325da6f50b8",
   "metadata": {},
   "outputs": [
    {
     "name": "stdout",
     "output_type": "stream",
     "text": [
      "{'mango': 320, 'pineapple': 250, 'apple': 320, 'orange': 650} 4 <class 'dict'> 2258466001920\n",
      "320\n",
      "250\n"
     ]
    },
    {
     "ename": "KeyError",
     "evalue": "'cherry'",
     "output_type": "error",
     "traceback": [
      "\u001b[1;31m---------------------------------------------------------------------------\u001b[0m",
      "\u001b[1;31mKeyError\u001b[0m                                  Traceback (most recent call last)",
      "Cell \u001b[1;32mIn[189], line 5\u001b[0m\n\u001b[0;32m      3\u001b[0m \u001b[38;5;28mprint\u001b[39m (dict1[\u001b[38;5;124m\"\u001b[39m\u001b[38;5;124mapple\u001b[39m\u001b[38;5;124m\"\u001b[39m])\n\u001b[0;32m      4\u001b[0m \u001b[38;5;28mprint\u001b[39m (dict1[\u001b[38;5;124m\"\u001b[39m\u001b[38;5;124mpineapple\u001b[39m\u001b[38;5;124m\"\u001b[39m])\n\u001b[1;32m----> 5\u001b[0m \u001b[38;5;28mprint\u001b[39m (\u001b[43mdict1\u001b[49m\u001b[43m[\u001b[49m\u001b[38;5;124;43m\"\u001b[39;49m\u001b[38;5;124;43mcherry\u001b[39;49m\u001b[38;5;124;43m\"\u001b[39;49m\u001b[43m]\u001b[49m)\n",
      "\u001b[1;31mKeyError\u001b[0m: 'cherry'"
     ]
    }
   ],
   "source": [
    "dict1 = {\"mango\":320, \"pineapple\":250, \"apple\":320, \"orange\":650}\n",
    "print (dict1, len(dict1), type(dict1), id(dict1))\n",
    "print (dict1[\"apple\"])\n",
    "print (dict1[\"pineapple\"])\n",
    "print (dict1[\"cherry\"])"
   ]
  },
  {
   "cell_type": "code",
   "execution_count": 185,
   "id": "8afad88d-a8f4-4bb5-b7f8-fceb074ebfd8",
   "metadata": {},
   "outputs": [
    {
     "name": "stdout",
     "output_type": "stream",
     "text": [
      "{'mango': 320, 'pineapple': 250, 'apple': 320, 'orange': 650} 4 <class 'dict'> 2258466011520\n",
      "320\n",
      "250\n",
      "Unsuccessful Searching...!!!\n"
     ]
    }
   ],
   "source": [
    "dict1 = {\"mango\":320, \"pineapple\":250, \"apple\":320, \"orange\":650}\n",
    "print (dict1, len(dict1), type(dict1), id(dict1))\n",
    "try:\n",
    "    print (dict1[\"apple\"])\n",
    "    print (dict1[\"pineapple\"])\n",
    "    print (dict1[\"cherry\"])\n",
    "except KeyError as ke:\n",
    "    print (\"Unsuccessful Searching...!!!\")"
   ]
  },
  {
   "cell_type": "code",
   "execution_count": 190,
   "id": "5a124cfd-30af-4533-9e79-3511a8352fd4",
   "metadata": {},
   "outputs": [
    {
     "name": "stdout",
     "output_type": "stream",
     "text": [
      "{'mango': 320, 'pineapple': 250, 'apple': 320, 'orange': 650} 4 <class 'dict'> 2258465344832\n",
      "{'mango': 320, 'pineapple': 250, 'apple': 320, 'orange': 650, 'lemon': 540, 'lime': 580} 6 <class 'dict'> 2258465344832\n",
      "{'mango': 900, 'pineapple': 250, 'apple': 320, 'orange': 1000, 'lemon': 540, 'lime': 580} 6 <class 'dict'> 2258465344832\n"
     ]
    }
   ],
   "source": [
    "# insert and update operations on a dictionary\n",
    "dict1 = {\"mango\":320, \"pineapple\":250, \"apple\":320, \"orange\":650}\n",
    "print (dict1, len(dict1), type(dict1), id(dict1))\n",
    "dict1[\"lemon\"] = 540   # insert\n",
    "dict1[\"lime\"] = 580    # insert\n",
    "print (dict1, len(dict1), type(dict1), id(dict1))\n",
    "dict1[\"mango\"] = 900   # update\n",
    "dict1[\"orange\"] = 1000 # update\n",
    "print (dict1, len(dict1), type(dict1), id(dict1))"
   ]
  },
  {
   "cell_type": "code",
   "execution_count": 194,
   "id": "8827e1c3-2c8d-48df-b65a-b953f1582a26",
   "metadata": {},
   "outputs": [
    {
     "name": "stdout",
     "output_type": "stream",
     "text": [
      "{'mango': 320, 'pineapple': 250, 'apple': 320, 'orange': 650} 4 <class 'dict'> 2258467238656\n",
      "{'mango': 320, 'pineapple': 250, 'apple': 320, 'orange': 650} 4 <class 'dict'> 2258467238656\n",
      "{'mango': 320, 'pineapple': 250, 'apple': 320, 'orange': 650} 4 <class 'dict'> 2258467238656\n",
      "{'mango': 320, 'pineapple': 250, 'apple': 320, 'orange': 650, 'lime': 950, 'lemon': 850} 6 <class 'dict'> 2258467238656\n"
     ]
    }
   ],
   "source": [
    "dict1 = {\"mango\":320, \"pineapple\":250, \"apple\":320, \"orange\":650}\n",
    "print (dict1, len(dict1), type(dict1), id(dict1))\n",
    "dict1.setdefault(\"apple\", 900)\n",
    "print (dict1, len(dict1), type(dict1), id(dict1))\n",
    "dict1.setdefault(\"orange\", 1500)\n",
    "print (dict1, len(dict1), type(dict1), id(dict1))\n",
    "dict1.setdefault(\"lime\", 950)\n",
    "dict1.setdefault(\"lemon\", 850)\n",
    "print (dict1, len(dict1), type(dict1), id(dict1))"
   ]
  },
  {
   "cell_type": "code",
   "execution_count": 193,
   "id": "98a2f4e6-91bf-4ff1-8469-2e762ad6f3cf",
   "metadata": {
    "tags": []
   },
   "outputs": [
    {
     "name": "stdout",
     "output_type": "stream",
     "text": [
      "{'mango': 320, 'pineapple': 250, 'apple': 320, 'orange': 650} 4 <class 'dict'> 2258467323520\n",
      "250\n",
      "{'mango': 320, 'apple': 320, 'orange': 650} 3 <class 'dict'> 2258467323520\n",
      "650\n",
      "{'mango': 320, 'apple': 320} 2 <class 'dict'> 2258467323520\n"
     ]
    },
    {
     "ename": "KeyError",
     "evalue": "'pineapple'",
     "output_type": "error",
     "traceback": [
      "\u001b[1;31m---------------------------------------------------------------------------\u001b[0m",
      "\u001b[1;31mKeyError\u001b[0m                                  Traceback (most recent call last)",
      "Cell \u001b[1;32mIn[193], line 8\u001b[0m\n\u001b[0;32m      6\u001b[0m \u001b[38;5;28mprint\u001b[39m (dict1\u001b[38;5;241m.\u001b[39mpop(\u001b[38;5;124m\"\u001b[39m\u001b[38;5;124morange\u001b[39m\u001b[38;5;124m\"\u001b[39m))\n\u001b[0;32m      7\u001b[0m \u001b[38;5;28mprint\u001b[39m (dict1, \u001b[38;5;28mlen\u001b[39m(dict1), \u001b[38;5;28mtype\u001b[39m(dict1), \u001b[38;5;28mid\u001b[39m(dict1))\n\u001b[1;32m----> 8\u001b[0m \u001b[38;5;28mprint\u001b[39m (\u001b[43mdict1\u001b[49m\u001b[38;5;241;43m.\u001b[39;49m\u001b[43mpop\u001b[49m\u001b[43m(\u001b[49m\u001b[38;5;124;43m\"\u001b[39;49m\u001b[38;5;124;43mpineapple\u001b[39;49m\u001b[38;5;124;43m\"\u001b[39;49m\u001b[43m)\u001b[49m)\n\u001b[0;32m      9\u001b[0m \u001b[38;5;28mprint\u001b[39m (dict1, \u001b[38;5;28mlen\u001b[39m(dict1), \u001b[38;5;28mtype\u001b[39m(dict1), \u001b[38;5;28mid\u001b[39m(dict1))\n",
      "\u001b[1;31mKeyError\u001b[0m: 'pineapple'"
     ]
    }
   ],
   "source": [
    "# delete operation on a dictionary\n",
    "dict1 = {\"mango\":320, \"pineapple\":250, \"apple\":320, \"orange\":650}\n",
    "print (dict1, len(dict1), type(dict1), id(dict1))\n",
    "print (dict1.pop(\"pineapple\"))\n",
    "print (dict1, len(dict1), type(dict1), id(dict1))\n",
    "print (dict1.pop(\"orange\"))\n",
    "print (dict1, len(dict1), type(dict1), id(dict1))\n",
    "print (dict1.pop(\"pineapple\"))\n",
    "print (dict1, len(dict1), type(dict1), id(dict1))"
   ]
  },
  {
   "cell_type": "code",
   "execution_count": 195,
   "id": "69a3ae27-16d9-4418-b8e3-24faf6cc9912",
   "metadata": {},
   "outputs": [
    {
     "name": "stdout",
     "output_type": "stream",
     "text": [
      "{'mango': 320, 'pineapple': 250, 'apple': 320, 'orange': 650} 4 <class 'dict'> 2258395371904\n",
      "('orange', 650)\n",
      "{'mango': 320, 'pineapple': 250, 'apple': 320} 3 <class 'dict'> 2258395371904\n",
      "('apple', 320)\n",
      "{'mango': 320, 'pineapple': 250} 2 <class 'dict'> 2258395371904\n",
      "('pineapple', 250)\n",
      "{'mango': 320} 1 <class 'dict'> 2258395371904\n"
     ]
    }
   ],
   "source": [
    "dict1 = {\"mango\":320, \"pineapple\":250, \"apple\":320, \"orange\":650}\n",
    "print (dict1, len(dict1), type(dict1), id(dict1))\n",
    "print (dict1.popitem())\n",
    "print (dict1, len(dict1), type(dict1), id(dict1))\n",
    "print (dict1.popitem())\n",
    "print (dict1, len(dict1), type(dict1), id(dict1))\n",
    "print (dict1.popitem())\n",
    "print (dict1, len(dict1), type(dict1), id(dict1))"
   ]
  },
  {
   "cell_type": "code",
   "execution_count": 196,
   "id": "2b431edf-031a-442c-8da9-c7b4108fc5ca",
   "metadata": {},
   "outputs": [
    {
     "name": "stdout",
     "output_type": "stream",
     "text": [
      "{'mango': 320, 'pineapple': 250, 'apple': 320, 'orange': 650} 4 <class 'dict'> 2258395439936\n",
      "{} 0 <class 'dict'> 2258395439936\n"
     ]
    }
   ],
   "source": [
    "dict1 = {\"mango\":320, \"pineapple\":250, \"apple\":320, \"orange\":650}\n",
    "print (dict1, len(dict1), type(dict1), id(dict1))\n",
    "dict1.clear()\n",
    "print (dict1, len(dict1), type(dict1), id(dict1))"
   ]
  },
  {
   "cell_type": "code",
   "execution_count": 197,
   "id": "c845e47c-700a-4574-8593-8fbee4cae1cd",
   "metadata": {},
   "outputs": [
    {
     "name": "stdout",
     "output_type": "stream",
     "text": [
      "{'mango': 320, 'pineapple': 250, 'apple': 320, 'orange': 650} 4 <class 'dict'> 2258395446336\n"
     ]
    },
    {
     "ename": "NameError",
     "evalue": "name 'dict1' is not defined",
     "output_type": "error",
     "traceback": [
      "\u001b[1;31m---------------------------------------------------------------------------\u001b[0m",
      "\u001b[1;31mNameError\u001b[0m                                 Traceback (most recent call last)",
      "Cell \u001b[1;32mIn[197], line 4\u001b[0m\n\u001b[0;32m      2\u001b[0m \u001b[38;5;28mprint\u001b[39m (dict1, \u001b[38;5;28mlen\u001b[39m(dict1), \u001b[38;5;28mtype\u001b[39m(dict1), \u001b[38;5;28mid\u001b[39m(dict1))\n\u001b[0;32m      3\u001b[0m \u001b[38;5;28;01mdel\u001b[39;00m dict1\n\u001b[1;32m----> 4\u001b[0m \u001b[38;5;28mprint\u001b[39m (\u001b[43mdict1\u001b[49m, \u001b[38;5;28mlen\u001b[39m(dict1), \u001b[38;5;28mtype\u001b[39m(dict1), \u001b[38;5;28mid\u001b[39m(dict1))\n",
      "\u001b[1;31mNameError\u001b[0m: name 'dict1' is not defined"
     ]
    }
   ],
   "source": [
    "dict1 = {\"mango\":320, \"pineapple\":250, \"apple\":320, \"orange\":650}\n",
    "print (dict1, len(dict1), type(dict1), id(dict1))\n",
    "del dict1\n",
    "print (dict1, len(dict1), type(dict1), id(dict1))"
   ]
  },
  {
   "cell_type": "code",
   "execution_count": 199,
   "id": "75834deb-ef19-43a1-98e8-495f89a2a524",
   "metadata": {},
   "outputs": [
    {
     "name": "stdout",
     "output_type": "stream",
     "text": [
      "{'apple': 'red', 'pineapple': 'yellow', 'banana': 'yellow'} 3\n",
      "{'orange': 'orange', 'mango': 'green'} 2\n",
      "{'apple': 'red', 'pineapple': 'yellow', 'banana': 'yellow', 'orange': 'orange', 'mango': 'green'} 5\n",
      "{'orange': 'orange', 'mango': 'green'} 2\n"
     ]
    }
   ],
   "source": [
    "# concatenation of dictionaries\n",
    "fruits1 = {\"apple\":\"red\", \"pineapple\":\"yellow\", \"banana\":\"yellow\"}\n",
    "fruirs2 = {\"orange\":\"orange\", \"mango\":\"green\"}\n",
    "print (fruits1, len(fruits1))\n",
    "print (fruirs2, len(fruirs2))\n",
    "fruits1.update(fruirs2)\n",
    "print (fruits1, len(fruits1))\n",
    "print (fruirs2, len(fruirs2))"
   ]
  },
  {
   "cell_type": "code",
   "execution_count": 200,
   "id": "9f5db593-7da6-4b1f-9afd-54b097fa2c68",
   "metadata": {},
   "outputs": [
    {
     "name": "stdout",
     "output_type": "stream",
     "text": [
      "{'mango': 900, 'lime': 900, 'lemon': 900, 'cherry': 900, 'coconut': 900} 5\n"
     ]
    }
   ],
   "source": [
    "fruit_names = [\"mango\", \"lime\", \"lemon\", \"cherry\", \"coconut\"]\n",
    "quantity = 900\n",
    "dict1 = dict.fromkeys(fruit_names, quantity)\n",
    "print (dict1, len(dict1))"
   ]
  },
  {
   "cell_type": "code",
   "execution_count": 207,
   "id": "f1a94f63-00aa-41fb-aede-db1ada87c004",
   "metadata": {},
   "outputs": [
    {
     "name": "stdout",
     "output_type": "stream",
     "text": [
      "<zip object at 0x0000020DD7638700>\n",
      "[('mango', 100), ('lime', 400), ('lemon', 300), ('cherry', 500)]\n",
      "(('mango', 100), ('lime', 400), ('lemon', 300), ('cherry', 500))\n",
      "{'mango': 100, 'lime': 400, 'lemon': 300, 'cherry': 500}\n",
      "{'mango': 100, 'lime': 400, 'lemon': 300, 'cherry': 500}\n"
     ]
    }
   ],
   "source": [
    "fruits = [\"mango\", \"lime\", \"lemon\", \"cherry\"]\n",
    "prices = [100, 400, 300, 500, 250, 750] \n",
    "print (zip(fruits, prices))        # returns a zip object\n",
    "print (list(zip(fruits, prices)))  # returns list of tuples\n",
    "print (tuple(zip(fruits, prices))) # returns tuples of tuples\n",
    "print (dict(zip(fruits, prices)))  # returns a dictionary\n",
    "print (dict(list(zip(fruits, prices))))  # return a dictionaty constructed from the list of tuples"
   ]
  },
  {
   "cell_type": "code",
   "execution_count": 208,
   "id": "e3512979-bc07-4bab-94db-ddbf7dc5dab7",
   "metadata": {},
   "outputs": [
    {
     "name": "stdout",
     "output_type": "stream",
     "text": [
      "March\n",
      "July\n",
      "December\n",
      "Invalid Month Number...!!!\n"
     ]
    }
   ],
   "source": [
    "def switcher(monthno):\n",
    "    month_name = {1:\"January\",\n",
    "                  2:\"February\",\n",
    "                  3:\"March\",\n",
    "                  4:\"April\", \n",
    "                  5:\"May\", \n",
    "                  6:\"June\",\n",
    "                  7:\"July\",\n",
    "                  8:\"August\",\n",
    "                  9:\"September\", \n",
    "                 10:\"October\",\n",
    "                 11:\"November\",\n",
    "                 12:\"December\"}\n",
    "    return month_name.get(monthno, \"Invalid Month Number...!!!\")\n",
    "print (switcher(3))\n",
    "print (switcher(7))\n",
    "print (switcher(12))\n",
    "print (switcher(20))"
   ]
  },
  {
   "cell_type": "code",
   "execution_count": 211,
   "id": "dcbeb345-9182-4992-8a03-595a37241496",
   "metadata": {},
   "outputs": [
    {
     "name": "stdout",
     "output_type": "stream",
     "text": [
      "{'apple': 'red', 'pineapple': 'yellow', 'banana': 'yellow'} 2258395437760\n",
      "{'apple': 'red', 'pineapple': 'yellow', 'banana': 'yellow'} 2258395437760\n",
      "{'apple': 'deep red', 'pineapple': 'yellow', 'banana': 'deep yellow'} 2258395437760\n",
      "{'apple': 'deep red', 'pineapple': 'yellow', 'banana': 'deep yellow'} 2258395437760\n"
     ]
    }
   ],
   "source": [
    "fruits1 = {\"apple\":\"red\", \"pineapple\":\"yellow\", \"banana\":\"yellow\"}\n",
    "fruits2 = fruits1\n",
    "print (fruits1, id(fruits1))\n",
    "print (fruits2, id(fruits2))\n",
    "fruits1['apple'] = \"deep red\"\n",
    "fruits2['banana'] = \"deep yellow\"\n",
    "print (fruits1, id(fruits1))\n",
    "print (fruits2, id(fruits2))"
   ]
  },
  {
   "cell_type": "code",
   "execution_count": 212,
   "id": "5f2c10b5-c187-4b92-a4e1-68af24e7c253",
   "metadata": {},
   "outputs": [
    {
     "name": "stdout",
     "output_type": "stream",
     "text": [
      "{'apple': 'red', 'pineapple': 'yellow', 'banana': 'yellow'} 2258449231616\n",
      "{'apple': 'red', 'pineapple': 'yellow', 'banana': 'yellow'} 2258449232000\n",
      "{'apple': 'deep red', 'pineapple': 'yellow', 'banana': 'yellow'} 2258449231616\n",
      "{'apple': 'red', 'pineapple': 'yellow', 'banana': 'deep yellow'} 2258449232000\n"
     ]
    }
   ],
   "source": [
    "fruits1 = {\"apple\":\"red\", \"pineapple\":\"yellow\", \"banana\":\"yellow\"}\n",
    "fruits2 = fruits1.copy()\n",
    "print (fruits1, id(fruits1))\n",
    "print (fruits2, id(fruits2))\n",
    "fruits1['apple'] = \"deep red\"\n",
    "fruits2['banana'] = \"deep yellow\"\n",
    "print (fruits1, id(fruits1))\n",
    "print (fruits2, id(fruits2))"
   ]
  },
  {
   "cell_type": "markdown",
   "id": "b4afa26e-619d-451c-98f4-55ed41fb66f3",
   "metadata": {},
   "source": [
    "### Class Assignment"
   ]
  },
  {
   "cell_type": "code",
   "execution_count": null,
   "id": "dbb8f5a3-3be2-4b08-8034-bcbc13490d99",
   "metadata": {},
   "outputs": [],
   "source": [
    "Take a word from the user as input and find the frequency of occurrences \n",
    "of each distinct letter in that word. (The output may be in any order)\n",
    "Output calculations will be case insensative.\n",
    "\n",
    "Example-1:\n",
    "Input: mississippi\n",
    "Output: m -> 1, i -> 4, s -> 4, p -> 2\n",
    "\n",
    "Example-2:\n",
    "Input: malayalam\n",
    "Output: m -> 2, a -> 4, y -> 1, l -> 2"
   ]
  },
  {
   "cell_type": "code",
   "execution_count": 217,
   "id": "17035dee-15cd-4278-996a-41789cd7b620",
   "metadata": {},
   "outputs": [
    {
     "name": "stdin",
     "output_type": "stream",
     "text": [
      "Please enter your word:  mississippi\n"
     ]
    },
    {
     "name": "stdout",
     "output_type": "stream",
     "text": [
      "m {'m': 1}\n",
      "i {'m': 1, 'i': 1}\n",
      "s {'m': 1, 'i': 1, 's': 1}\n",
      "s {'m': 1, 'i': 1, 's': 2}\n",
      "i {'m': 1, 'i': 2, 's': 2}\n",
      "s {'m': 1, 'i': 2, 's': 3}\n",
      "s {'m': 1, 'i': 2, 's': 4}\n",
      "i {'m': 1, 'i': 3, 's': 4}\n",
      "p {'m': 1, 'i': 3, 's': 4, 'p': 1}\n",
      "p {'m': 1, 'i': 3, 's': 4, 'p': 2}\n",
      "i {'m': 1, 'i': 4, 's': 4, 'p': 2}\n",
      "m -> 1, i -> 4, s -> 4, p -> 2, \n",
      "End of the program...\n"
     ]
    }
   ],
   "source": [
    "myword = input(\"Please enter your word: \").lower()\n",
    "char_freq = {}\n",
    "for ch in myword:\n",
    "    if (ch in char_freq): char_freq[ch] += 1\n",
    "    else: char_freq[ch] = 1\n",
    "    print (ch, char_freq)\n",
    "for ch in char_freq:\n",
    "    print (f\"{ch} -> {char_freq[ch]}, \", end = \"\")\n",
    "print()\n",
    "print (\"End of the program...\")"
   ]
  },
  {
   "cell_type": "code",
   "execution_count": null,
   "id": "4660cd1f-9857-4451-a709-e6be90b2b16d",
   "metadata": {},
   "outputs": [],
   "source": [
    "TRIODE NUMBER\n",
    "-------------\n",
    "Find out all possible 3-digit Triode Numbers.\n",
    "Let x be a Triode Number, then x, 2*x and 3*x will have all distinct digits.\n",
    "As Example:\n",
    "if x = 219 then 2*x = 438 and 3*x = 657 (All 3 numbers are having distinct digits)\n",
    "if x = 192 then 2*x = 384 and 3*x = 576 (All 3 numbers are having distinct digits)\n",
    "\n",
    "100   to   999\n",
    "102   to   987 x -> 498\n",
    "  x => 3\n",
    "2*x => 3      4\n",
    "3*x => 3,4    4"
   ]
  },
  {
   "cell_type": "code",
   "execution_count": 4,
   "id": "5680428a-b694-4ae8-babf-2e4a6788d091",
   "metadata": {},
   "outputs": [
    {
     "name": "stdout",
     "output_type": "stream",
     "text": [
      "192 384 576 [2, 9, 1, 4, 8, 3, 6, 7, 5]\n",
      "219 438 657 [9, 1, 2, 8, 3, 4, 7, 5, 6]\n",
      "267 534 801 [7, 6, 2, 4, 3, 5, 1, 0, 8]\n",
      "273 546 819 [3, 7, 2, 6, 4, 5, 9, 1, 8]\n",
      "327 654 981 [7, 2, 3, 4, 5, 6, 1, 8, 9]\n"
     ]
    }
   ],
   "source": [
    "for x in range(102, 499):\n",
    "    prev_digits = []\n",
    "    for i in range(1, 4):\n",
    "        num = i * x\n",
    "        while (num != 0):\n",
    "            last_digit = num % 10\n",
    "            if (last_digit in prev_digits): break\n",
    "            else: prev_digits.append(last_digit)\n",
    "            num = num // 10\n",
    "        if (num != 0): break\n",
    "    if (num == 0): print (x, 2*x, 3*x, prev_digits)"
   ]
  },
  {
   "cell_type": "markdown",
   "id": "02ecf96f-bb4a-4b47-a8c0-e1cae8c0de15",
   "metadata": {},
   "source": [
    "### **Set Processing**"
   ]
  },
  {
   "cell_type": "code",
   "execution_count": 5,
   "id": "ecf3013c-849c-45df-8e52-840507ae5a43",
   "metadata": {},
   "outputs": [
    {
     "name": "stdout",
     "output_type": "stream",
     "text": [
      "['Amitava', 40.5, 'Amitava', 40.5, 'Male', True, 65000, 'Male', True, 'Amitava', 65000] 11 <class 'list'>\n",
      "{'Amitava', True, 40.5, 65000, 'Male'} 5 <class 'set'>\n"
     ]
    }
   ],
   "source": [
    "# forming a set from a list\n",
    "list1 = [\"Amitava\", 40.5, \"Amitava\", 40.5, \"Male\", True, 65000, \"Male\", True, \"Amitava\", 65000]\n",
    "print (list1, len(list1), type(list1))\n",
    "set1 = set(list1)\n",
    "print (set1, len(set1), type(set1))"
   ]
  },
  {
   "cell_type": "code",
   "execution_count": 6,
   "id": "c968bcb7",
   "metadata": {},
   "outputs": [
    {
     "name": "stdout",
     "output_type": "stream",
     "text": [
      "('Amitava', 40.5, 'Amitava', 40.5, 'Male', True, 65000, 'Male', True, 'Amitava', 65000) 11 <class 'tuple'>\n",
      "{'Amitava', True, 40.5, 65000, 'Male'} 5 <class 'set'>\n"
     ]
    }
   ],
   "source": [
    "# forming a set from a tuple\n",
    "tuple1 = (\"Amitava\", 40.5, \"Amitava\", 40.5, \"Male\", True, 65000, \"Male\", True, \"Amitava\", 65000)\n",
    "print (tuple1, len(tuple1), type(tuple1))\n",
    "set1 = set(tuple1)\n",
    "print (set1, len(set1), type(set1))"
   ]
  },
  {
   "cell_type": "code",
   "execution_count": 9,
   "id": "0c2e268f",
   "metadata": {},
   "outputs": [
    {
     "name": "stdout",
     "output_type": "stream",
     "text": [
      "{'Amitava', True, 'Male', 40.5, 65000} 5 <class 'set'>\n"
     ]
    }
   ],
   "source": [
    "# forming a set directly\n",
    "set1 = {\"Amitava\", 40.5, \"Amitava\", 40.5, \"Male\", True, 65000, \"Male\", True, \"Amitava\", 65000}\n",
    "print (set1, len(set1), type(set1))"
   ]
  },
  {
   "attachments": {
    "SetOperations.png": {
     "image/png": "[encoded data removed]"
    }
   },
   "cell_type": "markdown",
   "id": "4384b79b",
   "metadata": {},
   "source": [
    "![SetOperations.png](attachment:SetOperations.png)"
   ]
  },
  {
   "cell_type": "markdown",
   "id": "1b501ac6-85e8-408c-8e4a-69a3bec70a33",
   "metadata": {},
   "source": [
    "#### Set Union Operation"
   ]
  },
  {
   "cell_type": "code",
   "execution_count": 16,
   "id": "ebf58176-158c-4cab-8082-1d5d50521a6a",
   "metadata": {},
   "outputs": [
    {
     "name": "stdout",
     "output_type": "stream",
     "text": [
      "{'viper', 'cobra', 'python'} 3 <class 'set'> 2606873823712\n",
      "{'kotlin', 'c++', 'python'} 3 <class 'set'> 2606854661600\n",
      "{'python', 'viper', 'kotlin', 'cobra', 'c++'} 5 <class 'set'> 2606854847648\n",
      "{'python', 'viper', 'kotlin', 'cobra', 'c++'} 5 <class 'set'> 2606854659360\n",
      "{'viper', 'cobra', 'python'} 3 <class 'set'> 2606873823712\n",
      "{'kotlin', 'c++', 'python'} 3 <class 'set'> 2606854661600\n"
     ]
    }
   ],
   "source": [
    "snakes = {\"viper\", \"python\", \"cobra\"}\n",
    "languages = {\"c++\", \"kotlin\", \"python\"}\n",
    "print (snakes, len(snakes), type(snakes), id(snakes))\n",
    "print (languages, len(languages), type(languages), id(languages))\n",
    "result = snakes.union(languages)\n",
    "print (result, len(result), type(result), id(result))\n",
    "result = snakes | languages\n",
    "print (result, len(result), type(result), id(result))\n",
    "print (snakes, len(snakes), type(snakes), id(snakes))\n",
    "print (languages, len(languages), type(languages), id(languages))"
   ]
  },
  {
   "cell_type": "markdown",
   "id": "7d04307d-c82e-420f-a152-4cef53c91493",
   "metadata": {},
   "source": [
    "#### Set Intersection Operation"
   ]
  },
  {
   "cell_type": "code",
   "execution_count": 15,
   "id": "0409445b-1c34-483d-9e24-2b5fce153cad",
   "metadata": {},
   "outputs": [
    {
     "name": "stdout",
     "output_type": "stream",
     "text": [
      "{'viper', 'cobra', 'python'} 3 <class 'set'> 2606854661600\n",
      "{'kotlin', 'c++', 'python'} 3 <class 'set'> 2606854847648\n",
      "{'python'} 1 <class 'set'> 2606873823712\n",
      "{'python'} 1 <class 'set'> 2606854659360\n",
      "{'viper', 'cobra', 'python'} 3 <class 'set'> 2606854661600\n",
      "{'kotlin', 'c++', 'python'} 3 <class 'set'> 2606854847648\n"
     ]
    }
   ],
   "source": [
    "snakes = {\"viper\", \"python\", \"cobra\"}\n",
    "languages = {\"c++\", \"kotlin\", \"python\"}\n",
    "print (snakes, len(snakes), type(snakes), id(snakes))\n",
    "print (languages, len(languages), type(languages), id(languages))\n",
    "result = snakes.intersection(languages)\n",
    "print (result, len(result), type(result), id(result))\n",
    "result = snakes & languages\n",
    "print (result, len(result), type(result), id(result))\n",
    "print (snakes, len(snakes), type(snakes), id(snakes))\n",
    "print (languages, len(languages), type(languages), id(languages))"
   ]
  },
  {
   "cell_type": "code",
   "execution_count": 17,
   "id": "5744541d-66aa-4e9f-bf11-8f4cb262d52b",
   "metadata": {},
   "outputs": [
    {
     "name": "stdout",
     "output_type": "stream",
     "text": [
      "{'viper', 'cobra', 'python'} 3 <class 'set'> 2606854847648\n",
      "{'kotlin', 'c++', 'python'} 3 <class 'set'> 2606877112384\n",
      "{'python'} 1 <class 'set'> 2606854847648\n",
      "{'kotlin', 'c++', 'python'} 3 <class 'set'> 2606877112384\n"
     ]
    }
   ],
   "source": [
    "snakes = {\"viper\", \"python\", \"cobra\"}\n",
    "languages = {\"c++\", \"kotlin\", \"python\"}\n",
    "print (snakes, len(snakes), type(snakes), id(snakes))\n",
    "print (languages, len(languages), type(languages), id(languages))\n",
    "snakes.intersection_update(languages)\n",
    "print (snakes, len(snakes), type(snakes), id(snakes))\n",
    "print (languages, len(languages), type(languages), id(languages))"
   ]
  },
  {
   "cell_type": "markdown",
   "id": "a54f272f-e8d5-4936-8a8a-1857304b1b0f",
   "metadata": {},
   "source": [
    "#### Set Difference Operation"
   ]
  },
  {
   "cell_type": "code",
   "execution_count": 20,
   "id": "eeaabcd7-5b29-4bc0-a699-f8ecd2cf717b",
   "metadata": {},
   "outputs": [
    {
     "name": "stdout",
     "output_type": "stream",
     "text": [
      "{'viper', 'cobra', 'python'} 3 <class 'set'> 2606881186624\n",
      "{'kotlin', 'c++', 'python'} 3 <class 'set'> 2606878814976\n",
      "{'viper', 'cobra'} 2 <class 'set'> 2606881420704\n",
      "{'viper', 'cobra'} 2 <class 'set'> 2606881186848\n",
      "{'viper', 'cobra', 'python'} 3 <class 'set'> 2606881186624\n",
      "{'kotlin', 'c++', 'python'} 3 <class 'set'> 2606878814976\n"
     ]
    }
   ],
   "source": [
    "snakes = {\"viper\", \"python\", \"cobra\"}\n",
    "languages = {\"c++\", \"kotlin\", \"python\"}\n",
    "print (snakes, len(snakes), type(snakes), id(snakes))\n",
    "print (languages, len(languages), type(languages), id(languages))\n",
    "result = snakes.difference(languages)\n",
    "print (result, len(result), type(result), id(result))\n",
    "result = snakes - languages\n",
    "print (result, len(result), type(result), id(result))\n",
    "print (snakes, len(snakes), type(snakes), id(snakes))\n",
    "print (languages, len(languages), type(languages), id(languages))"
   ]
  },
  {
   "cell_type": "code",
   "execution_count": 22,
   "id": "22b09abc-8f32-4d07-983d-015a45145ed3",
   "metadata": {},
   "outputs": [
    {
     "name": "stdout",
     "output_type": "stream",
     "text": [
      "{'viper', 'cobra', 'python'} 3 <class 'set'> 2606854656000\n",
      "{'kotlin', 'c++', 'python'} 3 <class 'set'> 2606854652640\n",
      "{'viper', 'cobra'} 2 <class 'set'> 2606854656000\n",
      "{'kotlin', 'c++', 'python'} 3 <class 'set'> 2606854652640\n"
     ]
    }
   ],
   "source": [
    "snakes = {\"viper\", \"python\", \"cobra\"}\n",
    "languages = {\"c++\", \"kotlin\", \"python\"}\n",
    "print (snakes, len(snakes), type(snakes), id(snakes))\n",
    "print (languages, len(languages), type(languages), id(languages))\n",
    "snakes.difference_update(languages)\n",
    "print (snakes, len(snakes), type(snakes), id(snakes))\n",
    "print (languages, len(languages), type(languages), id(languages))"
   ]
  },
  {
   "cell_type": "markdown",
   "id": "989383e4-9c91-4e0c-8280-0eb1e2e1594a",
   "metadata": {},
   "source": [
    "#### Set Symmetric Difference Operation"
   ]
  },
  {
   "cell_type": "code",
   "execution_count": 25,
   "id": "33089537-e612-4638-b0fc-57809fd87b9c",
   "metadata": {},
   "outputs": [
    {
     "name": "stdout",
     "output_type": "stream",
     "text": [
      "{'viper', 'cobra', 'python'} 3 <class 'set'> 2606881413312\n",
      "{'kotlin', 'c++', 'python'} 3 <class 'set'> 2606882726272\n",
      "{'viper', 'cobra', 'c++', 'kotlin'} 4 <class 'set'> 2606876805600\n",
      "{'viper', 'cobra', 'c++', 'kotlin'} 4 <class 'set'> 2606876813216\n",
      "{'viper', 'cobra', 'python'} 3 <class 'set'> 2606881413312\n",
      "{'kotlin', 'c++', 'python'} 3 <class 'set'> 2606882726272\n"
     ]
    }
   ],
   "source": [
    "snakes = {\"viper\", \"python\", \"cobra\"}\n",
    "languages = {\"c++\", \"kotlin\", \"python\"}\n",
    "print (snakes, len(snakes), type(snakes), id(snakes))\n",
    "print (languages, len(languages), type(languages), id(languages))\n",
    "result = snakes.symmetric_difference(languages)\n",
    "print (result, len(result), type(result), id(result))\n",
    "result = snakes ^ languages\n",
    "print (result, len(result), type(result), id(result))\n",
    "print (snakes, len(snakes), type(snakes), id(snakes))\n",
    "print (languages, len(languages), type(languages), id(languages))"
   ]
  },
  {
   "cell_type": "code",
   "execution_count": 30,
   "id": "17dd284c-399d-4b20-a786-c61ba21ba38a",
   "metadata": {},
   "outputs": [
    {
     "name": "stdout",
     "output_type": "stream",
     "text": [
      "{'viper', 'cobra', 'python'} 3 <class 'set'> 2606854653536\n",
      "{'kotlin', 'c++', 'python'} 3 <class 'set'> 2606892332224\n",
      "{'viper', 'cobra', 'c++', 'kotlin'} 4 <class 'set'> 2606854653536\n",
      "{'kotlin', 'c++', 'python'} 3 <class 'set'> 2606892332224\n"
     ]
    }
   ],
   "source": [
    "snakes = {\"viper\", \"python\", \"cobra\"}\n",
    "languages = {\"c++\", \"kotlin\", \"python\"}\n",
    "print (snakes, len(snakes), type(snakes), id(snakes))\n",
    "print (languages, len(languages), type(languages), id(languages))\n",
    "snakes.symmetric_difference_update(languages)\n",
    "print (snakes, len(snakes), type(snakes), id(snakes))\n",
    "print (languages, len(languages), type(languages), id(languages))"
   ]
  },
  {
   "cell_type": "code",
   "execution_count": 37,
   "id": "0c9a584d-0cc0-41ee-b69f-f9eaed86af62",
   "metadata": {},
   "outputs": [
    {
     "name": "stdout",
     "output_type": "stream",
     "text": [
      "True False True\n",
      "False True False\n",
      "False False True\n"
     ]
    }
   ],
   "source": [
    "set1 = {100, 200, 300}\n",
    "set2 = {400, 500, 600, 700, 800}\n",
    "set3 = {400, 500, 700}\n",
    "print (set1.isdisjoint(set2), set2.isdisjoint(set3), set1.isdisjoint(set3))\n",
    "print (set1.issuperset(set2), set2.issuperset(set3), set3.issuperset(set2))\n",
    "print (set1.issubset(set2), set2.issubset(set3), set3.issubset(set2))"
   ]
  },
  {
   "cell_type": "code",
   "execution_count": 40,
   "id": "b338ce2f-4508-4e55-9178-0fcef3d5fee9",
   "metadata": {},
   "outputs": [
    {
     "name": "stdout",
     "output_type": "stream",
     "text": [
      "{200, 100, 300} <class 'set'> 2606893378336\n",
      "{200, 100, 300} <class 'set'> 2606893638912\n"
     ]
    }
   ],
   "source": [
    "set1 = {100, 200, 300}\n",
    "print (set1, type(set1), id(set1))\n",
    "set2 = set1.copy()\n",
    "print (set2, type(set2), id(set2))"
   ]
  },
  {
   "cell_type": "code",
   "execution_count": 42,
   "id": "82a34b24-16c7-4d3b-b114-3e34d0cca249",
   "metadata": {},
   "outputs": [
    {
     "name": "stdout",
     "output_type": "stream",
     "text": [
      "{200, 100, 300} 3\n",
      "{200, 100, 400, 300} 4\n",
      "{100, 200, 300, 400, 500} 5\n",
      "{100, 200, 300, 400, 500} 5\n"
     ]
    }
   ],
   "source": [
    "# insert operation on a set\n",
    "set1 = {100, 200, 300}\n",
    "print (set1, len(set1))\n",
    "set1.add(400)\n",
    "print (set1, len(set1))\n",
    "set1.add(500)\n",
    "print (set1, len(set1))\n",
    "set1.add(300)\n",
    "print (set1, len(set1))"
   ]
  },
  {
   "cell_type": "code",
   "execution_count": 43,
   "id": "ce5abca8-22e3-4546-b233-2eda15a4640f",
   "metadata": {},
   "outputs": [
    {
     "name": "stdout",
     "output_type": "stream",
     "text": [
      "{400, 100, 500, 200, 300} 5\n",
      "{400, 100, 500, 200} 4\n",
      "{100, 500, 200} 3\n"
     ]
    },
    {
     "ename": "KeyError",
     "evalue": "400",
     "output_type": "error",
     "traceback": [
      "\u001b[1;31m---------------------------------------------------------------------------\u001b[0m",
      "\u001b[1;31mKeyError\u001b[0m                                  Traceback (most recent call last)",
      "Cell \u001b[1;32mIn[43], line 8\u001b[0m\n\u001b[0;32m      6\u001b[0m set1\u001b[38;5;241m.\u001b[39mremove(\u001b[38;5;241m400\u001b[39m)\n\u001b[0;32m      7\u001b[0m \u001b[38;5;28mprint\u001b[39m (set1, \u001b[38;5;28mlen\u001b[39m(set1))\n\u001b[1;32m----> 8\u001b[0m \u001b[43mset1\u001b[49m\u001b[38;5;241;43m.\u001b[39;49m\u001b[43mremove\u001b[49m\u001b[43m(\u001b[49m\u001b[38;5;241;43m400\u001b[39;49m\u001b[43m)\u001b[49m\n\u001b[0;32m      9\u001b[0m \u001b[38;5;28mprint\u001b[39m (set1, \u001b[38;5;28mlen\u001b[39m(set1))\n",
      "\u001b[1;31mKeyError\u001b[0m: 400"
     ]
    }
   ],
   "source": [
    "# delete operation on a set\n",
    "set1 = {100, 200, 300, 400, 500}\n",
    "print (set1, len(set1))\n",
    "set1.remove(300)\n",
    "print (set1, len(set1))\n",
    "set1.remove(400)\n",
    "print (set1, len(set1))\n",
    "set1.remove(400)\n",
    "print (set1, len(set1))"
   ]
  },
  {
   "cell_type": "code",
   "execution_count": 45,
   "id": "6df71223-0f6f-4a93-921d-67655cb6cd2c",
   "metadata": {},
   "outputs": [
    {
     "name": "stdout",
     "output_type": "stream",
     "text": [
      "{400, 100, 500, 200, 300} 5\n",
      "{400, 100, 500, 200} 4\n",
      "{100, 500, 200} 3\n",
      "{100, 500, 200} 3\n"
     ]
    }
   ],
   "source": [
    "set1 = {100, 200, 300, 400, 500}\n",
    "print (set1, len(set1))\n",
    "set1.discard(300)\n",
    "print (set1, len(set1))\n",
    "set1.discard(400)\n",
    "print (set1, len(set1))\n",
    "set1.discard(400)\n",
    "print (set1, len(set1))"
   ]
  },
  {
   "cell_type": "code",
   "execution_count": 46,
   "id": "36eda924-fcfc-41f7-9381-7c6a3d920300",
   "metadata": {},
   "outputs": [
    {
     "name": "stdout",
     "output_type": "stream",
     "text": [
      "{400, 100, 500, 200, 300} 5\n",
      "400\n",
      "{100, 500, 200, 300} 4\n",
      "100\n",
      "{500, 200, 300} 3\n",
      "500\n",
      "{200, 300} 2\n"
     ]
    }
   ],
   "source": [
    "set1 = {100, 200, 300, 400, 500}\n",
    "print (set1, len(set1))\n",
    "print (set1.pop())\n",
    "print (set1, len(set1))\n",
    "print (set1.pop())\n",
    "print (set1, len(set1))\n",
    "print (set1.pop())\n",
    "print (set1, len(set1))"
   ]
  },
  {
   "cell_type": "code",
   "execution_count": 47,
   "id": "b9a9061a-edfd-4256-b58b-8b09bb7d8cd8",
   "metadata": {},
   "outputs": [
    {
     "name": "stdout",
     "output_type": "stream",
     "text": [
      "{400, 100, 500, 200, 300} 5\n",
      "set() 0\n"
     ]
    }
   ],
   "source": [
    "set1 = {100, 200, 300, 400, 500}\n",
    "print (set1, len(set1))\n",
    "set1.clear()\n",
    "print (set1, len(set1))"
   ]
  },
  {
   "cell_type": "code",
   "execution_count": 48,
   "id": "bb461b23-8da2-479a-92f6-a3283f0ef959",
   "metadata": {},
   "outputs": [
    {
     "name": "stdout",
     "output_type": "stream",
     "text": [
      "{400, 100, 500, 200, 300} 5\n"
     ]
    },
    {
     "ename": "NameError",
     "evalue": "name 'set1' is not defined",
     "output_type": "error",
     "traceback": [
      "\u001b[1;31m---------------------------------------------------------------------------\u001b[0m",
      "\u001b[1;31mNameError\u001b[0m                                 Traceback (most recent call last)",
      "Cell \u001b[1;32mIn[48], line 4\u001b[0m\n\u001b[0;32m      2\u001b[0m \u001b[38;5;28mprint\u001b[39m (set1, \u001b[38;5;28mlen\u001b[39m(set1))\n\u001b[0;32m      3\u001b[0m \u001b[38;5;28;01mdel\u001b[39;00m set1\n\u001b[1;32m----> 4\u001b[0m \u001b[38;5;28mprint\u001b[39m (\u001b[43mset1\u001b[49m, \u001b[38;5;28mlen\u001b[39m(set1))\n",
      "\u001b[1;31mNameError\u001b[0m: name 'set1' is not defined"
     ]
    }
   ],
   "source": [
    "set1 = {100, 200, 300, 400, 500}\n",
    "print (set1, len(set1))\n",
    "del set1\n",
    "print (set1, len(set1))"
   ]
  },
  {
   "cell_type": "code",
   "execution_count": 50,
   "id": "0caa0542-f9be-4f1d-8c9e-cf48dc7e9d65",
   "metadata": {},
   "outputs": [
    {
     "name": "stdout",
     "output_type": "stream",
     "text": [
      "{400, 100, 500, 200, 300} 5\n",
      "{400, 100, 500, 3000, 200} 5\n"
     ]
    }
   ],
   "source": [
    "# simulated update operaton on a set\n",
    "set1 = {100, 200, 300, 400, 500}\n",
    "print (set1, len(set1))\n",
    "set1.discard(300)\n",
    "set1.add(3000)\n",
    "print (set1, len(set1))"
   ]
  },
  {
   "cell_type": "code",
   "execution_count": 52,
   "id": "4a413bcd-440f-4de4-8b70-dd40eaca18ba",
   "metadata": {},
   "outputs": [
    {
     "name": "stdout",
     "output_type": "stream",
     "text": [
      "{200, 100, 400, 300} 4\n",
      "{777, 666, 555} 3\n",
      "{400, 100, 200, 777, 666, 555, 300} 7\n",
      "{777, 666, 555} 3\n"
     ]
    }
   ],
   "source": [
    "# concatenation of two sets\n",
    "set1 = {100, 200, 400, 300}\n",
    "set2 = {777, 666, 555}\n",
    "print (set1, len(set1))\n",
    "print (set2, len(set2))\n",
    "set1.update(set2)\n",
    "print (set1, len(set1))\n",
    "print (set2, len(set2))"
   ]
  },
  {
   "cell_type": "markdown",
   "id": "4b95b951-d27c-4927-a69f-82a5db30ad70",
   "metadata": {},
   "source": [
    "### Class Assignment"
   ]
  },
  {
   "cell_type": "code",
   "execution_count": null,
   "id": "a2a39cf1-a300-47f7-a0ec-40e1f002abbc",
   "metadata": {},
   "outputs": [],
   "source": [
    "Write one user defined function in Python which will take a list of words as input.\n",
    "As output the function will return list of those words from the input list as output\n",
    "which can be typed by only those keys available in a single row of one QWERT keyboard.\n",
    "As example:\n",
    "Input List: [\"Alaska\", \"mountain\", \"Dad\", \"Peace\"]\n",
    "Output List: [\"Alaska\", \"Dad\"]"
   ]
  },
  {
   "attachments": {
    "KeyBoard.jpg": {
     "image/jpeg": "[encoded data removed]"
    }
   },
   "cell_type": "markdown",
   "id": "538b6572",
   "metadata": {},
   "source": [
    "![KeyBoard.jpg](attachment:KeyBoard.jpg)"
   ]
  },
  {
   "cell_type": "code",
   "execution_count": 57,
   "id": "a86f114b",
   "metadata": {},
   "outputs": [
    {
     "name": "stdout",
     "output_type": "stream",
     "text": [
      "Alaska {'l', 's', 'k', 'a'}\n",
      "asdfghjkl {'s', 'k', 'l', 'f', 'd', 'a', 'g', 'j', 'h'}\n",
      "True\n"
     ]
    }
   ],
   "source": [
    "word1 = \"Alaska\"\n",
    "set1 = set(word1.lower())\n",
    "print (word1, set1)\n",
    "\n",
    "row2 = \"asdfghjkl\"\n",
    "rowset2 = set(row2)\n",
    "print (row2, rowset2)\n",
    "print (set1.issubset(rowset2))"
   ]
  },
  {
   "cell_type": "code",
   "execution_count": 62,
   "id": "dac66aff",
   "metadata": {},
   "outputs": [
    {
     "name": "stdout",
     "output_type": "stream",
     "text": [
      "['Alaska', 'Dad']\n"
     ]
    }
   ],
   "source": [
    "def refine_words(input_list):\n",
    "    rowset1 = set(\"qwertyuiop\")\n",
    "    rowset2 = set(\"asdfghjkl\")\n",
    "    rowset3 = set(\"zxcvbnm\")\n",
    "    # print (rowset1, rowset2, rowset3)\n",
    "    output_list = []\n",
    "    for word in input_list:\n",
    "        wordset = set(word.lower())\n",
    "        if (wordset.issubset(rowset1) or wordset.issubset(rowset2)or wordset.issubset(rowset3)):\n",
    "            output_list.append(word)\n",
    "    return output_list\n",
    "    \n",
    "output = refine_words([\"Alaska\", \"mountain\", \"Dad\", \"Peace\"])\n",
    "print (output)"
   ]
  },
  {
   "cell_type": "code",
   "execution_count": null,
   "id": "6336d0c5",
   "metadata": {},
   "outputs": [],
   "source": []
  },
  {
   "cell_type": "markdown",
   "id": "65f48950-8d73-4dce-80f0-5357ddda21a6",
   "metadata": {},
   "source": [
    "### **Frozen Set Processing**"
   ]
  },
  {
   "cell_type": "code",
   "execution_count": 7,
   "id": "18d93b51-6175-4928-92a1-552ec9668c3f",
   "metadata": {},
   "outputs": [
    {
     "name": "stdout",
     "output_type": "stream",
     "text": [
      "['Amitava', 40.5, 'Amitava', 40.5, 'Male', True, 65000, 'Male', True, 'Amitava', 65000] 11 <class 'list'>\n",
      "frozenset({'Amitava', True, 40.5, 65000, 'Male'}) 5 <class 'frozenset'>\n"
     ]
    }
   ],
   "source": [
    "# forming a frozen set from a list\n",
    "list1 = [\"Amitava\", 40.5, \"Amitava\", 40.5, \"Male\", True, 65000, \"Male\", True, \"Amitava\", 65000]\n",
    "print (list1, len(list1), type(list1))\n",
    "set1 = frozenset(list1)\n",
    "print (set1, len(set1), type(set1))"
   ]
  },
  {
   "cell_type": "code",
   "execution_count": 8,
   "id": "b3ccb44a-2af8-4064-afe8-d405d6b129c2",
   "metadata": {},
   "outputs": [
    {
     "name": "stdout",
     "output_type": "stream",
     "text": [
      "('Amitava', 40.5, 'Amitava', 40.5, 'Male', True, 65000, 'Male', True, 'Amitava', 65000) 11 <class 'tuple'>\n",
      "frozenset({'Amitava', True, 40.5, 65000, 'Male'}) 5 <class 'frozenset'>\n"
     ]
    }
   ],
   "source": [
    "# forming a frozen set from a tuple\n",
    "tuple1 = (\"Amitava\", 40.5, \"Amitava\", 40.5, \"Male\", True, 65000, \"Male\", True, \"Amitava\", 65000)\n",
    "print (tuple1, len(tuple1), type(tuple1))\n",
    "set1 = frozenset(tuple1)\n",
    "print (set1, len(set1), type(set1))"
   ]
  },
  {
   "cell_type": "markdown",
   "id": "2fdd84b9-3e0f-4a22-a7d4-595df85ad7f3",
   "metadata": {},
   "source": [
    "#### Frozen Set Union Operation"
   ]
  },
  {
   "cell_type": "code",
   "execution_count": 13,
   "id": "88679cd9-4080-4b2a-9a9d-d41627ba8fdb",
   "metadata": {},
   "outputs": [
    {
     "name": "stdout",
     "output_type": "stream",
     "text": [
      "frozenset({'viper', 'cobra', 'python'}) 3 <class 'frozenset'> 2606875456256\n",
      "frozenset({'kotlin', 'c++', 'python'}) 3 <class 'frozenset'> 2606875456704\n",
      "frozenset({'python', 'viper', 'kotlin', 'cobra', 'c++'}) 5 <class 'frozenset'> 2606854659360\n",
      "frozenset({'python', 'viper', 'kotlin', 'cobra', 'c++'}) 5 <class 'frozenset'> 2606854843168\n"
     ]
    }
   ],
   "source": [
    "snakes = frozenset([\"viper\", \"python\", \"cobra\"])\n",
    "languages = frozenset([\"c++\", \"kotlin\", \"python\"])\n",
    "print (snakes, len(snakes), type(snakes), id(snakes))\n",
    "print (languages, len(languages), type(languages), id(languages))\n",
    "result = snakes.union(languages)\n",
    "print (result, len(result), type(result), id(result))\n",
    "result = snakes | languages\n",
    "print (result, len(result), type(result), id(result))"
   ]
  },
  {
   "cell_type": "markdown",
   "id": "b5e1ba03-9ada-442b-b61a-e2fc0b2a5f0c",
   "metadata": {},
   "source": [
    "#### Frozen Set Intersection Operation"
   ]
  },
  {
   "cell_type": "code",
   "execution_count": 18,
   "id": "a5f59a24-f187-4f27-b081-ba835497c102",
   "metadata": {},
   "outputs": [
    {
     "name": "stdout",
     "output_type": "stream",
     "text": [
      "frozenset({'viper', 'cobra', 'python'}) 3 <class 'frozenset'> 2606879023040\n",
      "frozenset({'kotlin', 'c++', 'python'}) 3 <class 'frozenset'> 2606880549888\n",
      "frozenset({'python'}) 1 <class 'frozenset'> 2606878814976\n",
      "frozenset({'python'}) 1 <class 'frozenset'> 2606879029760\n",
      "frozenset({'viper', 'cobra', 'python'}) 3 <class 'frozenset'> 2606879023040\n",
      "frozenset({'kotlin', 'c++', 'python'}) 3 <class 'frozenset'> 2606880549888\n"
     ]
    }
   ],
   "source": [
    "snakes = frozenset([\"viper\", \"python\", \"cobra\"])\n",
    "languages = frozenset([\"c++\", \"kotlin\", \"python\"])\n",
    "print (snakes, len(snakes), type(snakes), id(snakes))\n",
    "print (languages, len(languages), type(languages), id(languages))\n",
    "result = snakes.intersection(languages)\n",
    "print (result, len(result), type(result), id(result))\n",
    "result = snakes & languages\n",
    "print (result, len(result), type(result), id(result))\n",
    "print (snakes, len(snakes), type(snakes), id(snakes))\n",
    "print (languages, len(languages), type(languages), id(languages))"
   ]
  },
  {
   "cell_type": "markdown",
   "id": "0ecc94e8-1487-4dd3-81dc-50d6fedbe30a",
   "metadata": {},
   "source": [
    "#### Frozen Set Difference Operation"
   ]
  },
  {
   "cell_type": "code",
   "execution_count": 23,
   "id": "8e9004c2-ded3-425b-bba4-9704312435cd",
   "metadata": {},
   "outputs": [
    {
     "name": "stdout",
     "output_type": "stream",
     "text": [
      "frozenset({'viper', 'cobra', 'python'}) 3 <class 'frozenset'> 2606892911968\n",
      "frozenset({'kotlin', 'c++', 'python'}) 3 <class 'frozenset'> 2606882726272\n",
      "frozenset({'viper', 'cobra'}) 2 <class 'frozenset'> 2606849239840\n",
      "frozenset({'viper', 'cobra'}) 2 <class 'frozenset'> 2606876805824\n",
      "frozenset({'viper', 'cobra', 'python'}) 3 <class 'frozenset'> 2606892911968\n",
      "frozenset({'kotlin', 'c++', 'python'}) 3 <class 'frozenset'> 2606882726272\n"
     ]
    }
   ],
   "source": [
    "snakes = frozenset([\"viper\", \"python\", \"cobra\"])\n",
    "languages = frozenset([\"c++\", \"kotlin\", \"python\"])\n",
    "print (snakes, len(snakes), type(snakes), id(snakes))\n",
    "print (languages, len(languages), type(languages), id(languages))\n",
    "result = snakes.difference(languages)\n",
    "print (result, len(result), type(result), id(result))\n",
    "result = snakes - languages\n",
    "print (result, len(result), type(result), id(result))\n",
    "print (snakes, len(snakes), type(snakes), id(snakes))\n",
    "print (languages, len(languages), type(languages), id(languages))"
   ]
  },
  {
   "cell_type": "markdown",
   "id": "860d0b06-d853-4af4-a5a0-ce900bde6d5d",
   "metadata": {},
   "source": [
    "#### Frozen Set Symmetric Difference Operation"
   ]
  },
  {
   "cell_type": "code",
   "execution_count": 29,
   "id": "5f018e14-82c3-4d78-91ce-ebaca7cb776e",
   "metadata": {},
   "outputs": [
    {
     "name": "stdout",
     "output_type": "stream",
     "text": [
      "frozenset({'viper', 'cobra', 'python'}) 3 <class 'frozenset'> 2606892332224\n",
      "frozenset({'kotlin', 'c++', 'python'}) 3 <class 'frozenset'> 2606881187520\n",
      "frozenset({'viper', 'cobra', 'c++', 'kotlin'}) 4 <class 'frozenset'> 2606854653536\n",
      "frozenset({'viper', 'cobra', 'c++', 'kotlin'}) 4 <class 'frozenset'> 2606876586752\n",
      "frozenset({'viper', 'cobra', 'python'}) 3 <class 'frozenset'> 2606892332224\n",
      "frozenset({'kotlin', 'c++', 'python'}) 3 <class 'frozenset'> 2606881187520\n"
     ]
    }
   ],
   "source": [
    "snakes = frozenset([\"viper\", \"python\", \"cobra\"])\n",
    "languages = frozenset([\"c++\", \"kotlin\", \"python\"])\n",
    "print (snakes, len(snakes), type(snakes), id(snakes))\n",
    "print (languages, len(languages), type(languages), id(languages))\n",
    "result = snakes.symmetric_difference(languages)\n",
    "print (result, len(result), type(result), id(result))\n",
    "result = snakes ^ languages\n",
    "print (result, len(result), type(result), id(result))\n",
    "print (snakes, len(snakes), type(snakes), id(snakes))\n",
    "print (languages, len(languages), type(languages), id(languages))"
   ]
  },
  {
   "cell_type": "code",
   "execution_count": 39,
   "id": "c918ac44-b699-492a-91a7-0b6c23ff2afb",
   "metadata": {},
   "outputs": [
    {
     "name": "stdout",
     "output_type": "stream",
     "text": [
      "True False True\n",
      "False True False\n",
      "False False True\n"
     ]
    }
   ],
   "source": [
    "set1 = frozenset([100, 200, 300])\n",
    "set2 = frozenset([400, 500, 600, 700, 800])\n",
    "set3 = frozenset([400, 500, 700])\n",
    "print (set1.isdisjoint(set2), set2.isdisjoint(set3), set1.isdisjoint(set3))\n",
    "print (set1.issuperset(set2), set2.issuperset(set3), set3.issuperset(set2))\n",
    "print (set1.issubset(set2), set2.issubset(set3), set3.issubset(set2))"
   ]
  },
  {
   "cell_type": "code",
   "execution_count": 53,
   "id": "0c7af2ae-87e4-41db-ab84-114df0d6968e",
   "metadata": {},
   "outputs": [
    {
     "name": "stdout",
     "output_type": "stream",
     "text": [
      "frozenset({200, 100, 300}) <class 'frozenset'> 2606894723168\n",
      "frozenset({200, 100, 300}) <class 'frozenset'> 2606894723168\n"
     ]
    }
   ],
   "source": [
    "set1 = frozenset([100, 200, 300])\n",
    "print (set1, type(set1), id(set1))\n",
    "set2 = set1.copy()\n",
    "print (set2, type(set2), id(set2))"
   ]
  },
  {
   "cell_type": "code",
   "execution_count": null,
   "id": "b7d6fc14-c88e-468f-bac3-cd8a8ca81569",
   "metadata": {},
   "outputs": [],
   "source": []
  },
  {
   "cell_type": "code",
   "execution_count": null,
   "id": "d6d4180d-99ca-45fa-b20e-e62f9d02c846",
   "metadata": {},
   "outputs": [],
   "source": []
  },
  {
   "cell_type": "code",
   "execution_count": null,
   "id": "440bf928-a385-49f1-b89f-0049a45397f8",
   "metadata": {},
   "outputs": [],
   "source": []
  }
 ],
 "metadata": {
  "kernelspec": {
   "display_name": "Python 3 (ipykernel)",
   "language": "python",
   "name": "python3"
  },
  "language_info": {
   "codemirror_mode": {
    "name": "ipython",
    "version": 3
   },
   "file_extension": ".py",
   "mimetype": "text/x-python",
   "name": "python",
   "nbconvert_exporter": "python",
   "pygments_lexer": "ipython3",
   "version": "3.10.9"
  }
 },
 "nbformat": 4,
 "nbformat_minor": 5
}
