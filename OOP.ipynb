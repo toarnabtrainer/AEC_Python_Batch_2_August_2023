{
 "cells": [
  {
   "cell_type": "markdown",
   "id": "92a3b76b-2908-41b8-a4c6-b863b5f6872c",
   "metadata": {},
   "source": [
    "## **Object Oriented Programming using Python**"
   ]
  },
  {
   "cell_type": "markdown",
   "id": "79882df7-d74f-4f9e-848f-ff218e2dcafb",
   "metadata": {},
   "source": [
    ">Procedural programming languages lack encapsulation, difficult to manage when code size is more than 10KLOC.\n",
    "Here variables are unprotected, no automatic memory management by deleting deferenced variables."
   ]
  },
  {
   "cell_type": "code",
   "execution_count": 5,
   "id": "a239d574-8a77-484d-982d-5ee48a795fe6",
   "metadata": {},
   "outputs": [],
   "source": [
    "# A class can not have empty body, it should either have a pass statement or a document string\n",
    "class MyFirstClass:\n",
    "    pass   # pass is a statement placeholder\n",
    "\n",
    "ob1 = MyFirstClass()"
   ]
  },
  {
   "cell_type": "code",
   "execution_count": 7,
   "id": "401ab540-4b9d-448c-978c-bacd36207d8f",
   "metadata": {},
   "outputs": [
    {
     "name": "stdout",
     "output_type": "stream",
     "text": [
      "This is a document string or doc string.\n",
      "    Document string contains a multi-line text\n",
      "    and which depicts the definition and purpose of the class.\n",
      "This is a document string or doc string.\n",
      "    Document string contains a multi-line text\n",
      "    and which depicts the definition and purpose of the class.\n"
     ]
    }
   ],
   "source": [
    "class MyFirstClass:\n",
    "    \"\"\"This is a document string or doc string.\n",
    "    Document string contains a multi-line text\n",
    "    and which depicts the definition and purpose of the class.\"\"\"\n",
    "    \n",
    "ob1 = MyFirstClass()\n",
    "print (ob1.__doc__)\n",
    "print (MyFirstClass.__doc__)"
   ]
  },
  {
   "cell_type": "code",
   "execution_count": 8,
   "id": "23dbb907-9ec2-442f-88bb-cada3ed11798",
   "metadata": {},
   "outputs": [
    {
     "name": "stdout",
     "output_type": "stream",
     "text": [
      "str(object='') -> str\n",
      "str(bytes_or_buffer[, encoding[, errors]]) -> str\n",
      "\n",
      "Create a new string object from the given object. If encoding or\n",
      "errors is specified, then the object must expose a data buffer\n",
      "that will be decoded using the given encoding and error handler.\n",
      "Otherwise, returns the result of object.__str__() (if defined)\n",
      "or repr(object).\n",
      "encoding defaults to sys.getdefaultencoding().\n",
      "errors defaults to 'strict'.\n"
     ]
    }
   ],
   "source": [
    "print (str.__doc__)"
   ]
  },
  {
   "cell_type": "code",
   "execution_count": 9,
   "id": "4fb87949-4f61-44b5-acac-0220a4a5b4db",
   "metadata": {},
   "outputs": [
    {
     "name": "stdout",
     "output_type": "stream",
     "text": [
      "int([x]) -> integer\n",
      "int(x, base=10) -> integer\n",
      "\n",
      "Convert a number or string to an integer, or return 0 if no arguments\n",
      "are given.  If x is a number, return x.__int__().  For floating point\n",
      "numbers, this truncates towards zero.\n",
      "\n",
      "If x is not a number or if base is given, then x must be a string,\n",
      "bytes, or bytearray instance representing an integer literal in the\n",
      "given base.  The literal can be preceded by '+' or '-' and be surrounded\n",
      "by whitespace.  The base defaults to 10.  Valid bases are 0 and 2-36.\n",
      "Base 0 means to interpret the base from the string as an integer literal.\n",
      ">>> int('0b100', base=0)\n",
      "4\n"
     ]
    }
   ],
   "source": [
    "print (int.__doc__)"
   ]
  },
  {
   "cell_type": "code",
   "execution_count": null,
   "id": "8f5664b5-63b5-44fb-9fdd-9a1fec7a8b82",
   "metadata": {},
   "outputs": [],
   "source": [
    "help(int)"
   ]
  },
  {
   "cell_type": "code",
   "execution_count": 15,
   "id": "38edb6ea-5377-436d-a9f6-0f088c09b5f7",
   "metadata": {},
   "outputs": [
    {
     "name": "stdout",
     "output_type": "stream",
     "text": [
      "Executing the constructor method...\n",
      "Executing the display method...\n",
      "Class variable is 100 and 100...\n",
      "Instance variable is 111...\n",
      "self is <__main__.MyFirstClass object at 0x000001F3343DF6A0>...\n",
      "This is a document string...\n",
      "This is a document string...\n"
     ]
    }
   ],
   "source": [
    "class MyFirstClass: \n",
    "    '''This is a document string...'''   # should be at the beginning of the class\n",
    "    class_var1 = 100   # class/static variable, only one time instantiation, irrespective of #objects\n",
    "    def __init__(self, data1):    # self is an object binding variable\n",
    "        print (\"Executing the constructor method...\")\n",
    "        self.inst_var1 = data1   # instance variable\n",
    "    def display(self):\n",
    "        print (\"Executing the display method...\")\n",
    "        print (f\"Class variable is {self.class_var1} and {MyFirstClass.class_var1}...\")\n",
    "        print (f\"Instance variable is {self.inst_var1}...\")\n",
    "        print (f\"self is {self}...\")\n",
    "\n",
    "ob1 = MyFirstClass(111)  # object is an instance of a class\n",
    "ob1.display()   # . denotes membership operator\n",
    "print (ob1.__doc__)\n",
    "print (MyFirstClass.__doc__)"
   ]
  },
  {
   "cell_type": "code",
   "execution_count": 25,
   "id": "2b225db3-40d4-4dd0-95d6-8d8e900affce",
   "metadata": {},
   "outputs": [
    {
     "name": "stdout",
     "output_type": "stream",
     "text": [
      "Executing the constructor method...\n",
      "Executing the display method...\n",
      "Class variable is 100 and 100...\n",
      "Instance variable is 111...\n",
      "Updating the class or static variable...\n",
      "\n",
      "Executing the constructor method...\n",
      "Executing the display method...\n",
      "Class variable is 150 and 150...\n",
      "Instance variable is 222...\n"
     ]
    }
   ],
   "source": [
    "class MyFirstClass: \n",
    "    '''This is a document string...'''   # should be at the beginning of the class\n",
    "    class_var1 = 100   # class/static variable, only one time instantiation, irrespective of #objects\n",
    "    def __init__(self, data1):    # self is an object binding variable\n",
    "        print (\"Executing the constructor method...\")\n",
    "        self.inst_var1 = data1   # instance variable\n",
    "    def update(self):\n",
    "        print (\"Updating the class or static variable...\")\n",
    "        MyFirstClass.class_var1 += 50\n",
    "    def display(self):\n",
    "        print (\"Executing the display method...\")\n",
    "        print (f\"Class variable is {self.class_var1} and {MyFirstClass.class_var1}...\")\n",
    "        print (f\"Instance variable is {self.inst_var1}...\")\n",
    "        # print (f\"self is {self}...\")\n",
    "\n",
    "ob1 = MyFirstClass(111)  # object is an instance of a class\n",
    "ob1.display()   # . denotes membership operator\n",
    "ob1.update()\n",
    "print ()\n",
    "ob2 = MyFirstClass(222)\n",
    "ob2.display()\n",
    "\n",
    "# print (ob1.__doc__)\n",
    "# print (MyFirstClass.__doc__)"
   ]
  },
  {
   "cell_type": "code",
   "execution_count": 29,
   "id": "efb4a868-e179-4b2c-8768-aa2eb51538e3",
   "metadata": {},
   "outputs": [
    {
     "name": "stdout",
     "output_type": "stream",
     "text": [
      "Executing the constructor method...\n",
      "Executing the display method...\n",
      "Class variable is 100 and 100...\n",
      "Instance variable is 111...\n",
      "Updating the class or static variable...\n",
      "\n",
      "Executing the constructor method...\n",
      "Executing the display method...\n",
      "Class variable is 150 and 150...\n",
      "Instance variable is 222...\n",
      "Object details will be printed here...\n",
      "Object details will be printed here...\n"
     ]
    }
   ],
   "source": [
    "class MyFirstClass: \n",
    "    '''This is a document string...'''   # should be at the beginning of the class\n",
    "    class_var1 = 100   # class/static variable, only one time instantiation, irrespective of #objects\n",
    "    def __init__(self, data1):    # self is an object binding variable\n",
    "        print (\"Executing the constructor method...\")\n",
    "        self.inst_var1 = data1   # instance variable\n",
    "    def update(self):\n",
    "        print (\"Updating the class or static variable...\")\n",
    "        MyFirstClass.class_var1 += 50\n",
    "    def display(self):\n",
    "        print (\"Executing the display method...\")\n",
    "        print (f\"Class variable is {self.class_var1} and {MyFirstClass.class_var1}...\")\n",
    "        print (f\"Instance variable is {self.inst_var1}...\")\n",
    "    def __str__(self):\n",
    "        return \"Object details will be printed here...\"\n",
    "\n",
    "\n",
    "ob1 = MyFirstClass(111)  # object is an instance of a class\n",
    "ob1.display()   # . denotes membership operator\n",
    "ob1.update()\n",
    "print ()\n",
    "ob2 = MyFirstClass(222)\n",
    "ob2.display()\n",
    "print (ob1)\n",
    "print (ob2.__str__())"
   ]
  },
  {
   "cell_type": "code",
   "execution_count": 42,
   "id": "37b697c2-a35a-4037-b85d-b3962505c763",
   "metadata": {},
   "outputs": [
    {
     "name": "stdout",
     "output_type": "stream",
     "text": [
      "Executing the constructor method...\n",
      "Executing the display method...\n",
      "Class variable is 100 and 100...\n",
      "Instance variable is 111...\n",
      "Updating the class or static variable...\n",
      "\n",
      "Executing the constructor method...\n",
      "Executing the display method...\n",
      "Class variable is 150 and 150...\n",
      "Instance variable is 222...\n"
     ]
    }
   ],
   "source": [
    "class MyFirstClass: \n",
    "    '''This is a document string...'''   # should be at the beginning of the class\n",
    "    class_var1 = 100   # class/static variable, only one time instantiation, irrespective of #objects\n",
    "    def __init__(self, data1):    # self is an object binding variable\n",
    "        print (\"Executing the constructor method...\")\n",
    "        self.inst_var1 = data1   # instance variable\n",
    "    def update(self):\n",
    "        print (\"Updating the class or static variable...\")\n",
    "        MyFirstClass.class_var1 += 50\n",
    "    def display(self):\n",
    "        print (\"Executing the display method...\")\n",
    "        print (f\"Class variable is {self.class_var1} and {MyFirstClass.class_var1}...\")\n",
    "        print (f\"Instance variable is {self.inst_var1}...\")\n",
    "    def __del__(self):   # destructor method\n",
    "        print (\"Destructor method is executing...\")\n",
    "\n",
    "ob1 = MyFirstClass(111)  # object is an instance of a class\n",
    "ob1.display()   # . denotes membership operator\n",
    "ob1.update()\n",
    "print ()\n",
    "ob2 = MyFirstClass(222)\n",
    "ob2.display()"
   ]
  },
  {
   "cell_type": "code",
   "execution_count": 38,
   "id": "e828b271-a7ec-4322-85ab-2cd9cd00c85d",
   "metadata": {},
   "outputs": [
    {
     "name": "stdout",
     "output_type": "stream",
     "text": [
      "Executing the display method...\n",
      "Class variable is 150 and 150...\n",
      "Instance variable is 111...\n",
      "Executing the display method...\n",
      "Class variable is 150 and 150...\n",
      "Instance variable is 222...\n"
     ]
    }
   ],
   "source": [
    "ob1.display()\n",
    "ob2.display()"
   ]
  },
  {
   "cell_type": "code",
   "execution_count": 43,
   "id": "fb32dfa5-ec45-4af7-bf1e-83230e6f226e",
   "metadata": {},
   "outputs": [
    {
     "name": "stdout",
     "output_type": "stream",
     "text": [
      "Destructor method is executing...\n"
     ]
    }
   ],
   "source": [
    "del ob1"
   ]
  },
  {
   "cell_type": "code",
   "execution_count": 44,
   "id": "6bdd967e-da4f-4e2a-8eb6-f626b142a6b3",
   "metadata": {},
   "outputs": [
    {
     "name": "stdout",
     "output_type": "stream",
     "text": [
      "Destructor method is executing...\n"
     ]
    }
   ],
   "source": [
    "del ob2"
   ]
  },
  {
   "cell_type": "code",
   "execution_count": 45,
   "id": "a2e3c626-dfb3-4fdb-9e90-33885d5e5d81",
   "metadata": {},
   "outputs": [
    {
     "ename": "NameError",
     "evalue": "name 'ob1' is not defined",
     "output_type": "error",
     "traceback": [
      "\u001b[1;31m---------------------------------------------------------------------------\u001b[0m",
      "\u001b[1;31mNameError\u001b[0m                                 Traceback (most recent call last)",
      "Cell \u001b[1;32mIn[45], line 1\u001b[0m\n\u001b[1;32m----> 1\u001b[0m \u001b[43mob1\u001b[49m\u001b[38;5;241m.\u001b[39mdisplay()\n",
      "\u001b[1;31mNameError\u001b[0m: name 'ob1' is not defined"
     ]
    }
   ],
   "source": [
    "ob1.display()"
   ]
  },
  {
   "cell_type": "code",
   "execution_count": 46,
   "id": "9e33336a-8f9f-418f-b551-5a42a0e03426",
   "metadata": {},
   "outputs": [
    {
     "name": "stdout",
     "output_type": "stream",
     "text": [
      "Number of objects created is 5...\n"
     ]
    }
   ],
   "source": [
    "# keeping the count of objects created under a class\n",
    "class MyClass:\n",
    "    count = 0   # defining a class variable\n",
    "    def __init__(self):\n",
    "        MyClass.count += 1\n",
    "        \n",
    "ob1 = MyClass()\n",
    "ob2 = MyClass()\n",
    "ob3 = MyClass()\n",
    "ob4 = MyClass()\n",
    "ob5 = MyClass()\n",
    "print (f\"Number of objects created is {MyClass.count}...\")"
   ]
  },
  {
   "cell_type": "code",
   "execution_count": 54,
   "id": "ddc4e305-e4ab-4283-8e00-0ce2bcf983fc",
   "metadata": {},
   "outputs": [
    {
     "name": "stdout",
     "output_type": "stream",
     "text": [
      "Executing the instance method <__main__.MyClass object at 0x000001F333EFF5E0>\n",
      "instVar = 100, classVar = 222, classVar = 222...\n",
      "Executing the class method <class '__main__.MyClass'>\n",
      "classVar = 333, classVar = 333...\n",
      "Executing the class method <class '__main__.MyClass'>\n",
      "classVar = 333, classVar = 333...\n",
      "Executing static method\n",
      "classVar = 444...\n",
      "Executing static method\n",
      "classVar = 444...\n"
     ]
    }
   ],
   "source": [
    "# there are three different types of methods in Python: instance, class, and static methods\n",
    "class MyClass:\n",
    "    classVar = 111   # class or static variable\n",
    "    # declaring instance method\n",
    "    def instMethod(self):\n",
    "        print (\"Executing the instance method\", self)\n",
    "        self.instVar = 100\n",
    "        MyClass.classVar = 222\n",
    "        print (f\"instVar = {self.instVar}, classVar = {self.classVar}, classVar = {MyClass.classVar}...\")\n",
    "    # declaring class method\n",
    "    @classmethod   # annotation or decorator\n",
    "    def classMethod(cla):\n",
    "        print (\"Executing the class method\", cla)\n",
    "        cla.classVar = 333\n",
    "        print (f\"classVar = {MyClass.classVar}, classVar = {cla.classVar}...\")\n",
    "    # declaring static method\n",
    "    @staticmethod  # annotation or decorator\n",
    "    def staticMethod():\n",
    "        print (\"Executing static method\")\n",
    "        MyClass.classVar = 444\n",
    "        print (f\"classVar = {MyClass.classVar}...\")\n",
    "ob1 = MyClass()\n",
    "ob1.instMethod()\n",
    "# MyClass.instMethod()   -- ERROR\n",
    "ob1.classMethod()\n",
    "MyClass.classMethod()\n",
    "ob1.staticMethod()\n",
    "MyClass.staticMethod()"
   ]
  },
  {
   "cell_type": "code",
   "execution_count": null,
   "id": "42441bc3-fdeb-480b-99f8-96b7b9979b88",
   "metadata": {},
   "outputs": [],
   "source": []
  },
  {
   "cell_type": "code",
   "execution_count": null,
   "id": "896605dc-6c26-4a13-8459-c567c0e8f997",
   "metadata": {},
   "outputs": [],
   "source": []
  },
  {
   "cell_type": "code",
   "execution_count": null,
   "id": "b2bf54d1-37df-46cd-a174-94ea7338db48",
   "metadata": {},
   "outputs": [],
   "source": []
  },
  {
   "cell_type": "code",
   "execution_count": null,
   "id": "56d015d9-c872-4d7e-9f8f-20db96ab4a2c",
   "metadata": {},
   "outputs": [],
   "source": []
  },
  {
   "cell_type": "code",
   "execution_count": null,
   "id": "6e157756-27fe-4aa3-9e23-d5b5bc1dee3e",
   "metadata": {},
   "outputs": [],
   "source": []
  },
  {
   "cell_type": "code",
   "execution_count": null,
   "id": "568dbb2a-1e13-4c4e-a15f-344babc49558",
   "metadata": {},
   "outputs": [],
   "source": []
  },
  {
   "cell_type": "code",
   "execution_count": null,
   "id": "2b00f4e3-ba3f-4ce3-89ce-dec6ca3efaad",
   "metadata": {},
   "outputs": [],
   "source": []
  },
  {
   "cell_type": "code",
   "execution_count": null,
   "id": "122a5812-b589-4262-a7aa-3f97ea54ffe9",
   "metadata": {},
   "outputs": [],
   "source": []
  },
  {
   "cell_type": "code",
   "execution_count": null,
   "id": "aaf944e8-4c7b-45db-8d86-244cc34e46a6",
   "metadata": {},
   "outputs": [],
   "source": []
  },
  {
   "cell_type": "code",
   "execution_count": null,
   "id": "487fed01-21fe-4613-83ea-d32312c8d3e4",
   "metadata": {},
   "outputs": [],
   "source": []
  },
  {
   "cell_type": "code",
   "execution_count": null,
   "id": "56ec2110-1890-4a89-a6d0-0289fe302057",
   "metadata": {},
   "outputs": [],
   "source": []
  },
  {
   "cell_type": "code",
   "execution_count": null,
   "id": "4362518b-7c5c-4dda-8b3a-01b532cc4caa",
   "metadata": {},
   "outputs": [],
   "source": []
  },
  {
   "cell_type": "code",
   "execution_count": null,
   "id": "2603b095-e8fe-4bb8-bde1-c845a1b08b14",
   "metadata": {},
   "outputs": [],
   "source": []
  },
  {
   "cell_type": "code",
   "execution_count": null,
   "id": "b5ce85c6-1e8b-4a47-9e17-8e9db6a26e84",
   "metadata": {},
   "outputs": [],
   "source": []
  },
  {
   "cell_type": "code",
   "execution_count": null,
   "id": "95e77fd5-7554-4de5-8cf5-0afc1c467c96",
   "metadata": {},
   "outputs": [],
   "source": []
  },
  {
   "cell_type": "code",
   "execution_count": null,
   "id": "b11101ee-7193-4174-a277-fecf45bec623",
   "metadata": {},
   "outputs": [],
   "source": []
  },
  {
   "cell_type": "code",
   "execution_count": null,
   "id": "379a8f32-262e-40a4-a6cc-284d0479ed2d",
   "metadata": {},
   "outputs": [],
   "source": []
  },
  {
   "cell_type": "code",
   "execution_count": null,
   "id": "dbac070f-999c-4fc8-9639-2074281b8000",
   "metadata": {},
   "outputs": [],
   "source": []
  },
  {
   "cell_type": "code",
   "execution_count": null,
   "id": "885b82a9-af61-4d9d-a815-c32de15b8bf6",
   "metadata": {},
   "outputs": [],
   "source": []
  },
  {
   "cell_type": "code",
   "execution_count": null,
   "id": "47039e02-b500-4edc-98bf-9c8ca1d861bb",
   "metadata": {},
   "outputs": [],
   "source": []
  },
  {
   "cell_type": "code",
   "execution_count": null,
   "id": "3039e492-626a-47a8-89f6-da21635c1be8",
   "metadata": {},
   "outputs": [],
   "source": []
  },
  {
   "cell_type": "code",
   "execution_count": null,
   "id": "bad953e5-3fbd-4e09-ace1-0e412ec7160d",
   "metadata": {},
   "outputs": [],
   "source": []
  }
 ],
 "metadata": {
  "kernelspec": {
   "display_name": "Python 3 (ipykernel)",
   "language": "python",
   "name": "python3"
  },
  "language_info": {
   "codemirror_mode": {
    "name": "ipython",
    "version": 3
   },
   "file_extension": ".py",
   "mimetype": "text/x-python",
   "name": "python",
   "nbconvert_exporter": "python",
   "pygments_lexer": "ipython3",
   "version": "3.10.9"
  }
 },
 "nbformat": 4,
 "nbformat_minor": 5
}
